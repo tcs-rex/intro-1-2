{
 "cells": [
  {
   "attachments": {},
   "cell_type": "markdown",
   "metadata": {},
   "source": [
    "# Assignment 2"
   ]
  },
  {
   "attachments": {},
   "cell_type": "markdown",
   "metadata": {},
   "source": [
    "**Please follow the instructions. Do not add new cell! Write your code in designated areas.**"
   ]
  },
  {
   "cell_type": "code",
   "execution_count": 33,
   "metadata": {},
   "outputs": [
    {
     "name": "stdout",
     "output_type": "stream",
     "text": [
      "Assignment 1 & 2: Solutions by John\n",
      "Local Time: 2024-02-09 16:31:30\n",
      "Computer ID: Steves-Air\n"
     ]
    }
   ],
   "source": [
    "import numpy as np\n",
    "import datetime\n",
    "import socket\n",
    "\n",
    "# Get local time\n",
    "local_time = datetime.datetime.now().strftime(\"%Y-%m-%d %H:%M:%S\")\n",
    "\n",
    "# Get computer ID or hostname\n",
    "computer_id = socket.gethostname()\n",
    "\n",
    "# Print output with local time and computer ID\n",
    "print('Assignment 1 & 2: Solutions by John') # Please change your name here\n",
    "print('Local Time:', local_time)\n",
    "print('Computer ID:', computer_id)"
   ]
  },
  {
   "attachments": {},
   "cell_type": "markdown",
   "metadata": {},
   "source": [
    "## NumPy"
   ]
  },
  {
   "attachments": {},
   "cell_type": "markdown",
   "metadata": {},
   "source": [
    "1. Create a 2D numpy array of size 4x5 with random integers between 1 and 10. Find the maximum value of the entire array. \n"
   ]
  },
  {
   "cell_type": "code",
   "execution_count": 34,
   "metadata": {},
   "outputs": [
    {
     "name": "stdout",
     "output_type": "stream",
     "text": [
      "max: 10 \n",
      "mean: 4.8 \n",
      "std=dev: 2.5612496949731396\n"
     ]
    }
   ],
   "source": [
    "## Your code here down\n",
    "array_2d = np.random.randint(1, 11, size=(4, 5))\n",
    "max_value = np.max(array_2d)\n",
    "mean_value = np.mean(array_2d)\n",
    "std_value = np.std(array_2d)\n",
    "print('max:', max_value, '\\nmean:', mean_value, '\\nstd=dev:', std_value)\n",
    "## Your code here up"
   ]
  },
  {
   "attachments": {},
   "cell_type": "markdown",
   "metadata": {},
   "source": [
    "2. Create a 1D numpy array of size 20 with random floats between 0 and 1. Reshape the array into a 4x5 matrix. Compute the mean of each row."
   ]
  },
  {
   "cell_type": "code",
   "execution_count": 35,
   "metadata": {},
   "outputs": [
    {
     "name": "stdout",
     "output_type": "stream",
     "text": [
      "shape (4, 5)\n",
      "row means: \n",
      " [0.6678258  0.47278803 0.46587523 0.46617869]\n"
     ]
    }
   ],
   "source": [
    "## Your code here down\n",
    "array_1d = np.random.rand(20)\n",
    "array_2d = array_1d.reshape(4, 5)\n",
    "print('shape', array_2d.shape)\n",
    "row_means = np.mean(array_2d, axis=1)\n",
    "\n",
    "# # Print the mean of each row\n",
    "print(\"row means: \\n\", row_means)\n",
    "\n",
    "## Your code here up"
   ]
  },
  {
   "attachments": {},
   "cell_type": "markdown",
   "metadata": {},
   "source": [
    "3. Create a 2D numpy array of size 5x5 with random integers between 1 and 100. Compute standard deviation of each column."
   ]
  },
  {
   "cell_type": "code",
   "execution_count": 36,
   "metadata": {},
   "outputs": [
    {
     "name": "stdout",
     "output_type": "stream",
     "text": [
      "std-dev of cols: \n",
      " [19.38659331 26.25566606 18.65046916 14.81890684 15.15783626]\n"
     ]
    }
   ],
   "source": [
    "## Your code here down\n",
    "array_2d = np.random.randint(1, 101, size=(5, 5))\n",
    "column_std_devs = np.std(array_2d, axis=0)\n",
    "\n",
    "# Print the standard deviation of each column\n",
    "print(\"std-dev of cols: \\n\", column_std_devs)\n",
    "\n",
    "## Your code here up"
   ]
  },
  {
   "attachments": {},
   "cell_type": "markdown",
   "metadata": {},
   "source": [
    "4. Create a 1D numpy array of size 15 with random floats between -10 and 10. Replace all negative values with their absolute values."
   ]
  },
  {
   "cell_type": "code",
   "execution_count": 37,
   "metadata": {},
   "outputs": [
    {
     "data": {
      "text/plain": [
       "True"
      ]
     },
     "execution_count": 37,
     "metadata": {},
     "output_type": "execute_result"
    }
   ],
   "source": [
    "## Your code here down\n",
    "array = np.abs(np.random.uniform(-10, 10, size=15))\n",
    "np.all(array >= 0)\n",
    "\n",
    "## Your code here up"
   ]
  },
  {
   "attachments": {},
   "cell_type": "markdown",
   "metadata": {},
   "source": [
    "5. Create a 2D numpy array of size 3x4 with random integers between 1 and 100. Calculate the sum of all elements in the array."
   ]
  },
  {
   "cell_type": "code",
   "execution_count": 38,
   "metadata": {},
   "outputs": [
    {
     "name": "stdout",
     "output_type": "stream",
     "text": [
      "Sum: 647\n"
     ]
    }
   ],
   "source": [
    "## Your code here down\n",
    "array_sum = np.sum(np.random.randint(1, 101, size=(3, 4)))\n",
    "print(\"Sum:\", array_sum)\n",
    "\n",
    "## Your code here up"
   ]
  },
  {
   "attachments": {},
   "cell_type": "markdown",
   "metadata": {},
   "source": [
    "7. Create a 2D numpy array of size 4x6 with random floats between 0 and 1. Normalize each column by subtracting the column mean and dividing by the column standard deviation."
   ]
  },
  {
   "cell_type": "code",
   "execution_count": 39,
   "metadata": {},
   "outputs": [
    {
     "name": "stdout",
     "output_type": "stream",
     "text": [
      "Normalized Array:\n",
      " [[-0.35089055  1.14335968 -0.1014066  -0.47249153  1.00406711  1.04948162]\n",
      " [-1.27306725 -0.33527062 -1.07645338  0.9124677   0.67747481  0.94774883]\n",
      " [ 0.12730522  0.65751524 -0.44482233  0.97319357 -0.09274504 -1.05290946]\n",
      " [ 1.49665259 -1.4656043   1.62268232 -1.41316974 -1.58879687 -0.94432099]]\n"
     ]
    }
   ],
   "source": [
    "## Your code here down\n",
    "array_2d = np.random.rand(4, 6)\n",
    "column_means = np.mean(array_2d, axis=0)\n",
    "column_std_devs = np.std(array_2d, axis=0)\n",
    "normalized_array_2d = (array_2d - column_means) / column_std_devs\n",
    "\n",
    "print(\"Normalized Array:\\n\", normalized_array_2d)\n",
    "\n",
    "## Your code here up"
   ]
  },
  {
   "attachments": {},
   "cell_type": "markdown",
   "metadata": {},
   "source": [
    "8. Create a 2D numpy array of size 10x10 with random integers between 1 and 100. Replace all values greater than 50 with 1 and all other values with 0."
   ]
  },
  {
   "cell_type": "code",
   "execution_count": 40,
   "metadata": {},
   "outputs": [
    {
     "name": "stdout",
     "output_type": "stream",
     "text": [
      "Array after replacement:\n",
      " [[1 0 0 0 1 0 1 1 1 0]\n",
      " [0 0 1 0 1 0 1 1 0 1]\n",
      " [0 0 1 1 0 1 1 1 1 1]\n",
      " [1 0 1 1 1 1 1 0 1 0]\n",
      " [1 1 1 1 1 1 1 1 0 0]\n",
      " [1 1 0 0 0 1 0 0 1 1]\n",
      " [1 1 0 0 1 0 0 1 1 0]\n",
      " [1 1 1 0 1 0 1 1 0 1]\n",
      " [1 1 0 0 0 1 0 1 0 1]\n",
      " [0 1 1 0 1 1 1 1 0 0]]\n"
     ]
    }
   ],
   "source": [
    "## Your code here down\n",
    "array_2d = np.random.randint(1, 101, size=(10, 10))\n",
    "array_2d[array_2d <= 50] = 0\n",
    "array_2d[array_2d > 50] = 1\n",
    "print(\"Array after replacement:\\n\", array_2d)\n",
    "\n",
    "## Your code here up"
   ]
  },
  {
   "attachments": {},
   "cell_type": "markdown",
   "metadata": {},
   "source": [
    "9. Create a 1D numpy array of size 50 with random floats between 0 and 1. Find the number of elements greater than 0.5."
   ]
  },
  {
   "cell_type": "code",
   "execution_count": 41,
   "metadata": {},
   "outputs": [
    {
     "name": "stdout",
     "output_type": "stream",
     "text": [
      "elements > 0.5:  26\n"
     ]
    }
   ],
   "source": [
    "## Your code here down\n",
    "# Create a 1D numpy array of size 50 with random floats between 0 and 1\n",
    "array_1d = np.random.rand(50)\n",
    "count = np.sum(array_1d > 0.5)\n",
    "print(\"elements > 0.5: \", count)\n",
    "\n",
    "## Your code here up"
   ]
  },
  {
   "attachments": {},
   "cell_type": "markdown",
   "metadata": {},
   "source": [
    "10. Create a 2D numpy array of size 5x5 with random floats between -1 and 1. Find the absolute difference between the maximum and minimum values in each row."
   ]
  },
  {
   "cell_type": "code",
   "execution_count": 42,
   "metadata": {},
   "outputs": [
    {
     "name": "stdout",
     "output_type": "stream",
     "text": [
      "abs diffs of row min max:  [1.42661855 0.7055172  1.33997012 0.83598351 0.78517846]\n"
     ]
    }
   ],
   "source": [
    "## Your code here down\n",
    "array_2d = np.random.uniform(-1, 1, size=(5, 5))\n",
    "abs_diff_max_min_row = np.abs(np.max(array_2d, axis=1) - np.min(array_2d, axis=1))\n",
    "print(\"abs diffs of row min max: \", abs_diff_max_min_row)\n",
    "\n",
    "## Your code here up"
   ]
  },
  {
   "attachments": {},
   "cell_type": "markdown",
   "metadata": {},
   "source": [
    "## Pandas"
   ]
  },
  {
   "attachments": {},
   "cell_type": "markdown",
   "metadata": {},
   "source": [
    "Please refer the dataframe (farm data) we have created in the training. Please copy that cell and paste it below before starting this part. "
   ]
  },
  {
   "cell_type": "code",
   "execution_count": 43,
   "metadata": {},
   "outputs": [],
   "source": [
    "import random\n",
    "import pandas as pd\n",
    "\n",
    "# Define the range for longitude and latitude\n",
    "lon_range = (-105, -100)\n",
    "lat_range = (50, 52)\n",
    "\n",
    "# Define the list of soil types\n",
    "soil_types = ['black', 'gray', 'dark brown', 'brown', None]\n",
    "\n",
    "# Create an empty list to store the farms\n",
    "farms = []\n",
    "\n",
    "# Generate 40 farms\n",
    "for i in range(1000):\n",
    "    farm = {\n",
    "        'farm_name': f'Farm {i+1}', # f is formated string\n",
    "        'farm_lon': round(random.uniform(lon_range[0], lon_range[1]), 2), # random lon with 2 decimal points\n",
    "        'farm_lat': round(random.uniform(lat_range[0], lat_range[1]), 2), # rantom lat with 2 decimal points\n",
    "        'temperature': round(random.uniform(18, 33), 1), #random temp with 1 decimal points\n",
    "        'precipitation': round(random.uniform(20, 90), 1), # random prec with 1 decimal points\n",
    "        'soil_type': random.choice(soil_types) # random soil types from above list\n",
    "    }\n",
    "    farms.append(farm)"
   ]
  },
  {
   "cell_type": "code",
   "execution_count": 44,
   "metadata": {},
   "outputs": [
    {
     "data": {
      "text/html": [
       "<div>\n",
       "<style scoped>\n",
       "    .dataframe tbody tr th:only-of-type {\n",
       "        vertical-align: middle;\n",
       "    }\n",
       "\n",
       "    .dataframe tbody tr th {\n",
       "        vertical-align: top;\n",
       "    }\n",
       "\n",
       "    .dataframe thead th {\n",
       "        text-align: right;\n",
       "    }\n",
       "</style>\n",
       "<table border=\"1\" class=\"dataframe\">\n",
       "  <thead>\n",
       "    <tr style=\"text-align: right;\">\n",
       "      <th></th>\n",
       "      <th>farm_name</th>\n",
       "      <th>farm_lon</th>\n",
       "      <th>farm_lat</th>\n",
       "      <th>temperature</th>\n",
       "      <th>precipitation</th>\n",
       "      <th>soil_type</th>\n",
       "    </tr>\n",
       "  </thead>\n",
       "  <tbody>\n",
       "    <tr>\n",
       "      <th>0</th>\n",
       "      <td>Farm 1</td>\n",
       "      <td>-104.00</td>\n",
       "      <td>51.97</td>\n",
       "      <td>23.5</td>\n",
       "      <td>20.9</td>\n",
       "      <td>gray</td>\n",
       "    </tr>\n",
       "    <tr>\n",
       "      <th>1</th>\n",
       "      <td>Farm 2</td>\n",
       "      <td>-101.57</td>\n",
       "      <td>50.90</td>\n",
       "      <td>31.2</td>\n",
       "      <td>89.6</td>\n",
       "      <td>None</td>\n",
       "    </tr>\n",
       "    <tr>\n",
       "      <th>2</th>\n",
       "      <td>Farm 3</td>\n",
       "      <td>-100.30</td>\n",
       "      <td>51.18</td>\n",
       "      <td>25.8</td>\n",
       "      <td>40.1</td>\n",
       "      <td>gray</td>\n",
       "    </tr>\n",
       "    <tr>\n",
       "      <th>3</th>\n",
       "      <td>Farm 4</td>\n",
       "      <td>-102.20</td>\n",
       "      <td>50.06</td>\n",
       "      <td>32.5</td>\n",
       "      <td>49.8</td>\n",
       "      <td>None</td>\n",
       "    </tr>\n",
       "    <tr>\n",
       "      <th>4</th>\n",
       "      <td>Farm 5</td>\n",
       "      <td>-104.96</td>\n",
       "      <td>51.62</td>\n",
       "      <td>28.0</td>\n",
       "      <td>27.0</td>\n",
       "      <td>brown</td>\n",
       "    </tr>\n",
       "  </tbody>\n",
       "</table>\n",
       "</div>"
      ],
      "text/plain": [
       "  farm_name  farm_lon  farm_lat  temperature  precipitation soil_type\n",
       "0    Farm 1   -104.00     51.97         23.5           20.9      gray\n",
       "1    Farm 2   -101.57     50.90         31.2           89.6      None\n",
       "2    Farm 3   -100.30     51.18         25.8           40.1      gray\n",
       "3    Farm 4   -102.20     50.06         32.5           49.8      None\n",
       "4    Farm 5   -104.96     51.62         28.0           27.0     brown"
      ]
     },
     "execution_count": 44,
     "metadata": {},
     "output_type": "execute_result"
    }
   ],
   "source": [
    "df = pd.DataFrame(farms)\n",
    "df.head()"
   ]
  },
  {
   "attachments": {},
   "cell_type": "markdown",
   "metadata": {},
   "source": [
    "1. Select the rows where the temperature is above 20 degrees Celsius."
   ]
  },
  {
   "cell_type": "code",
   "execution_count": 45,
   "metadata": {},
   "outputs": [
    {
     "data": {
      "text/html": [
       "<div>\n",
       "<style scoped>\n",
       "    .dataframe tbody tr th:only-of-type {\n",
       "        vertical-align: middle;\n",
       "    }\n",
       "\n",
       "    .dataframe tbody tr th {\n",
       "        vertical-align: top;\n",
       "    }\n",
       "\n",
       "    .dataframe thead th {\n",
       "        text-align: right;\n",
       "    }\n",
       "</style>\n",
       "<table border=\"1\" class=\"dataframe\">\n",
       "  <thead>\n",
       "    <tr style=\"text-align: right;\">\n",
       "      <th></th>\n",
       "      <th>farm_name</th>\n",
       "      <th>farm_lon</th>\n",
       "      <th>farm_lat</th>\n",
       "      <th>temperature</th>\n",
       "      <th>precipitation</th>\n",
       "      <th>soil_type</th>\n",
       "    </tr>\n",
       "  </thead>\n",
       "  <tbody>\n",
       "    <tr>\n",
       "      <th>0</th>\n",
       "      <td>Farm 1</td>\n",
       "      <td>-104.00</td>\n",
       "      <td>51.97</td>\n",
       "      <td>23.5</td>\n",
       "      <td>20.9</td>\n",
       "      <td>gray</td>\n",
       "    </tr>\n",
       "    <tr>\n",
       "      <th>1</th>\n",
       "      <td>Farm 2</td>\n",
       "      <td>-101.57</td>\n",
       "      <td>50.90</td>\n",
       "      <td>31.2</td>\n",
       "      <td>89.6</td>\n",
       "      <td>None</td>\n",
       "    </tr>\n",
       "    <tr>\n",
       "      <th>2</th>\n",
       "      <td>Farm 3</td>\n",
       "      <td>-100.30</td>\n",
       "      <td>51.18</td>\n",
       "      <td>25.8</td>\n",
       "      <td>40.1</td>\n",
       "      <td>gray</td>\n",
       "    </tr>\n",
       "    <tr>\n",
       "      <th>3</th>\n",
       "      <td>Farm 4</td>\n",
       "      <td>-102.20</td>\n",
       "      <td>50.06</td>\n",
       "      <td>32.5</td>\n",
       "      <td>49.8</td>\n",
       "      <td>None</td>\n",
       "    </tr>\n",
       "    <tr>\n",
       "      <th>4</th>\n",
       "      <td>Farm 5</td>\n",
       "      <td>-104.96</td>\n",
       "      <td>51.62</td>\n",
       "      <td>28.0</td>\n",
       "      <td>27.0</td>\n",
       "      <td>brown</td>\n",
       "    </tr>\n",
       "  </tbody>\n",
       "</table>\n",
       "</div>"
      ],
      "text/plain": [
       "  farm_name  farm_lon  farm_lat  temperature  precipitation soil_type\n",
       "0    Farm 1   -104.00     51.97         23.5           20.9      gray\n",
       "1    Farm 2   -101.57     50.90         31.2           89.6      None\n",
       "2    Farm 3   -100.30     51.18         25.8           40.1      gray\n",
       "3    Farm 4   -102.20     50.06         32.5           49.8      None\n",
       "4    Farm 5   -104.96     51.62         28.0           27.0     brown"
      ]
     },
     "execution_count": 45,
     "metadata": {},
     "output_type": "execute_result"
    }
   ],
   "source": [
    "## Your code here down\n",
    "rows_temp_greater_20 = df[df['temperature'] > 20]\n",
    "rows_temp_greater_20.head()\n",
    "## Your code here up"
   ]
  },
  {
   "attachments": {},
   "cell_type": "markdown",
   "metadata": {},
   "source": [
    "2. Sort the DataFrame by precipitation in descending order."
   ]
  },
  {
   "cell_type": "code",
   "execution_count": 46,
   "metadata": {},
   "outputs": [
    {
     "data": {
      "text/html": [
       "<div>\n",
       "<style scoped>\n",
       "    .dataframe tbody tr th:only-of-type {\n",
       "        vertical-align: middle;\n",
       "    }\n",
       "\n",
       "    .dataframe tbody tr th {\n",
       "        vertical-align: top;\n",
       "    }\n",
       "\n",
       "    .dataframe thead th {\n",
       "        text-align: right;\n",
       "    }\n",
       "</style>\n",
       "<table border=\"1\" class=\"dataframe\">\n",
       "  <thead>\n",
       "    <tr style=\"text-align: right;\">\n",
       "      <th></th>\n",
       "      <th>farm_name</th>\n",
       "      <th>farm_lon</th>\n",
       "      <th>farm_lat</th>\n",
       "      <th>temperature</th>\n",
       "      <th>precipitation</th>\n",
       "      <th>soil_type</th>\n",
       "    </tr>\n",
       "  </thead>\n",
       "  <tbody>\n",
       "    <tr>\n",
       "      <th>887</th>\n",
       "      <td>Farm 888</td>\n",
       "      <td>-100.85</td>\n",
       "      <td>51.70</td>\n",
       "      <td>29.2</td>\n",
       "      <td>90.0</td>\n",
       "      <td>brown</td>\n",
       "    </tr>\n",
       "    <tr>\n",
       "      <th>327</th>\n",
       "      <td>Farm 328</td>\n",
       "      <td>-104.68</td>\n",
       "      <td>51.63</td>\n",
       "      <td>27.0</td>\n",
       "      <td>89.8</td>\n",
       "      <td>gray</td>\n",
       "    </tr>\n",
       "    <tr>\n",
       "      <th>133</th>\n",
       "      <td>Farm 134</td>\n",
       "      <td>-102.00</td>\n",
       "      <td>51.46</td>\n",
       "      <td>23.6</td>\n",
       "      <td>89.7</td>\n",
       "      <td>brown</td>\n",
       "    </tr>\n",
       "    <tr>\n",
       "      <th>1</th>\n",
       "      <td>Farm 2</td>\n",
       "      <td>-101.57</td>\n",
       "      <td>50.90</td>\n",
       "      <td>31.2</td>\n",
       "      <td>89.6</td>\n",
       "      <td>None</td>\n",
       "    </tr>\n",
       "    <tr>\n",
       "      <th>382</th>\n",
       "      <td>Farm 383</td>\n",
       "      <td>-100.34</td>\n",
       "      <td>50.64</td>\n",
       "      <td>22.2</td>\n",
       "      <td>89.6</td>\n",
       "      <td>brown</td>\n",
       "    </tr>\n",
       "  </tbody>\n",
       "</table>\n",
       "</div>"
      ],
      "text/plain": [
       "    farm_name  farm_lon  farm_lat  temperature  precipitation soil_type\n",
       "887  Farm 888   -100.85     51.70         29.2           90.0     brown\n",
       "327  Farm 328   -104.68     51.63         27.0           89.8      gray\n",
       "133  Farm 134   -102.00     51.46         23.6           89.7     brown\n",
       "1      Farm 2   -101.57     50.90         31.2           89.6      None\n",
       "382  Farm 383   -100.34     50.64         22.2           89.6     brown"
      ]
     },
     "execution_count": 46,
     "metadata": {},
     "output_type": "execute_result"
    }
   ],
   "source": [
    "## Your code here down\n",
    "df.sort_values(by='precipitation', ascending=False, inplace=True)\n",
    "df.head()\n",
    "## Your code here up"
   ]
  },
  {
   "attachments": {},
   "cell_type": "markdown",
   "metadata": {},
   "source": [
    "3. Filter the DataFrame to include only the farms located within latitude (51.15 & 51.00) range."
   ]
  },
  {
   "cell_type": "code",
   "execution_count": 47,
   "metadata": {},
   "outputs": [
    {
     "data": {
      "text/html": [
       "<div>\n",
       "<style scoped>\n",
       "    .dataframe tbody tr th:only-of-type {\n",
       "        vertical-align: middle;\n",
       "    }\n",
       "\n",
       "    .dataframe tbody tr th {\n",
       "        vertical-align: top;\n",
       "    }\n",
       "\n",
       "    .dataframe thead th {\n",
       "        text-align: right;\n",
       "    }\n",
       "</style>\n",
       "<table border=\"1\" class=\"dataframe\">\n",
       "  <thead>\n",
       "    <tr style=\"text-align: right;\">\n",
       "      <th></th>\n",
       "      <th>farm_name</th>\n",
       "      <th>farm_lon</th>\n",
       "      <th>farm_lat</th>\n",
       "      <th>temperature</th>\n",
       "      <th>precipitation</th>\n",
       "      <th>soil_type</th>\n",
       "    </tr>\n",
       "  </thead>\n",
       "  <tbody>\n",
       "    <tr>\n",
       "      <th>482</th>\n",
       "      <td>Farm 483</td>\n",
       "      <td>-101.49</td>\n",
       "      <td>51.12</td>\n",
       "      <td>28.4</td>\n",
       "      <td>89.1</td>\n",
       "      <td>brown</td>\n",
       "    </tr>\n",
       "    <tr>\n",
       "      <th>468</th>\n",
       "      <td>Farm 469</td>\n",
       "      <td>-100.61</td>\n",
       "      <td>51.13</td>\n",
       "      <td>23.2</td>\n",
       "      <td>88.6</td>\n",
       "      <td>dark brown</td>\n",
       "    </tr>\n",
       "    <tr>\n",
       "      <th>926</th>\n",
       "      <td>Farm 927</td>\n",
       "      <td>-101.85</td>\n",
       "      <td>51.01</td>\n",
       "      <td>22.6</td>\n",
       "      <td>88.2</td>\n",
       "      <td>black</td>\n",
       "    </tr>\n",
       "    <tr>\n",
       "      <th>324</th>\n",
       "      <td>Farm 325</td>\n",
       "      <td>-100.57</td>\n",
       "      <td>51.09</td>\n",
       "      <td>28.3</td>\n",
       "      <td>87.6</td>\n",
       "      <td>dark brown</td>\n",
       "    </tr>\n",
       "    <tr>\n",
       "      <th>928</th>\n",
       "      <td>Farm 929</td>\n",
       "      <td>-103.54</td>\n",
       "      <td>51.15</td>\n",
       "      <td>23.1</td>\n",
       "      <td>87.4</td>\n",
       "      <td>black</td>\n",
       "    </tr>\n",
       "  </tbody>\n",
       "</table>\n",
       "</div>"
      ],
      "text/plain": [
       "    farm_name  farm_lon  farm_lat  temperature  precipitation   soil_type\n",
       "482  Farm 483   -101.49     51.12         28.4           89.1       brown\n",
       "468  Farm 469   -100.61     51.13         23.2           88.6  dark brown\n",
       "926  Farm 927   -101.85     51.01         22.6           88.2       black\n",
       "324  Farm 325   -100.57     51.09         28.3           87.6  dark brown\n",
       "928  Farm 929   -103.54     51.15         23.1           87.4       black"
      ]
     },
     "execution_count": 47,
     "metadata": {},
     "output_type": "execute_result"
    }
   ],
   "source": [
    "## Your code here down\n",
    "filtered_df = df[(df['farm_lat'] >= 51.00) & (df['farm_lat'] <= 51.15)]\n",
    "filtered_df.head()\n",
    "## Your code here up"
   ]
  },
  {
   "attachments": {},
   "cell_type": "markdown",
   "metadata": {},
   "source": [
    " 4. Calculate the standard deviation of precipitation for each soil type."
   ]
  },
  {
   "cell_type": "code",
   "execution_count": 48,
   "metadata": {},
   "outputs": [
    {
     "name": "stdout",
     "output_type": "stream",
     "text": [
      "soil_type\n",
      "black         19.443567\n",
      "brown         19.573359\n",
      "dark brown    20.701107\n",
      "gray          20.142531\n",
      "NaN           18.564492\n",
      "Name: precipitation, dtype: float64\n"
     ]
    }
   ],
   "source": [
    "## Your code here down\n",
    "print(df.groupby('soil_type', dropna=False)['precipitation'].std())\n",
    "\n",
    "## Your code here up"
   ]
  },
  {
   "attachments": {},
   "cell_type": "markdown",
   "metadata": {},
   "source": [
    "5. Calculate the cumulative sum of precipitation for each soil type."
   ]
  },
  {
   "cell_type": "code",
   "execution_count": 49,
   "metadata": {},
   "outputs": [
    {
     "name": "stdout",
     "output_type": "stream",
     "text": [
      "soil_type\n",
      "black         11298.4\n",
      "brown         11548.3\n",
      "dark brown    10033.0\n",
      "gray          10836.4\n",
      "NaN           11537.3\n",
      "Name: precipitation, dtype: float64\n"
     ]
    }
   ],
   "source": [
    "## Your code here down\n",
    "print(df.groupby('soil_type', dropna=False)['precipitation'].sum())\n",
    "\n",
    "## Your code here up"
   ]
  },
  {
   "attachments": {},
   "cell_type": "markdown",
   "metadata": {},
   "source": [
    "6. Determine the top 3 farms with the highest average temperature."
   ]
  },
  {
   "cell_type": "code",
   "execution_count": 50,
   "metadata": {},
   "outputs": [
    {
     "data": {
      "text/html": [
       "<div>\n",
       "<style scoped>\n",
       "    .dataframe tbody tr th:only-of-type {\n",
       "        vertical-align: middle;\n",
       "    }\n",
       "\n",
       "    .dataframe tbody tr th {\n",
       "        vertical-align: top;\n",
       "    }\n",
       "\n",
       "    .dataframe thead th {\n",
       "        text-align: right;\n",
       "    }\n",
       "</style>\n",
       "<table border=\"1\" class=\"dataframe\">\n",
       "  <thead>\n",
       "    <tr style=\"text-align: right;\">\n",
       "      <th></th>\n",
       "      <th>farm_name</th>\n",
       "      <th>farm_lon</th>\n",
       "      <th>farm_lat</th>\n",
       "      <th>temperature</th>\n",
       "      <th>precipitation</th>\n",
       "      <th>soil_type</th>\n",
       "    </tr>\n",
       "  </thead>\n",
       "  <tbody>\n",
       "    <tr>\n",
       "      <th>599</th>\n",
       "      <td>Farm 600</td>\n",
       "      <td>-102.38</td>\n",
       "      <td>51.31</td>\n",
       "      <td>33.0</td>\n",
       "      <td>85.2</td>\n",
       "      <td>None</td>\n",
       "    </tr>\n",
       "    <tr>\n",
       "      <th>166</th>\n",
       "      <td>Farm 167</td>\n",
       "      <td>-104.83</td>\n",
       "      <td>51.09</td>\n",
       "      <td>33.0</td>\n",
       "      <td>74.5</td>\n",
       "      <td>black</td>\n",
       "    </tr>\n",
       "    <tr>\n",
       "      <th>311</th>\n",
       "      <td>Farm 312</td>\n",
       "      <td>-100.21</td>\n",
       "      <td>51.67</td>\n",
       "      <td>33.0</td>\n",
       "      <td>71.2</td>\n",
       "      <td>gray</td>\n",
       "    </tr>\n",
       "  </tbody>\n",
       "</table>\n",
       "</div>"
      ],
      "text/plain": [
       "    farm_name  farm_lon  farm_lat  temperature  precipitation soil_type\n",
       "599  Farm 600   -102.38     51.31         33.0           85.2      None\n",
       "166  Farm 167   -104.83     51.09         33.0           74.5     black\n",
       "311  Farm 312   -100.21     51.67         33.0           71.2      gray"
      ]
     },
     "execution_count": 50,
     "metadata": {},
     "output_type": "execute_result"
    }
   ],
   "source": [
    "## Your code here down\n",
    "df.sort_values(by='temperature', ascending=False, inplace=True)\n",
    "df.head(3)\n",
    "\n",
    "## Your code here up"
   ]
  },
  {
   "attachments": {},
   "cell_type": "markdown",
   "metadata": {},
   "source": [
    "7. Find famrs in each soil type that have the highest temperature."
   ]
  },
  {
   "cell_type": "code",
   "execution_count": 51,
   "metadata": {},
   "outputs": [
    {
     "data": {
      "text/html": [
       "<div>\n",
       "<style scoped>\n",
       "    .dataframe tbody tr th:only-of-type {\n",
       "        vertical-align: middle;\n",
       "    }\n",
       "\n",
       "    .dataframe tbody tr th {\n",
       "        vertical-align: top;\n",
       "    }\n",
       "\n",
       "    .dataframe thead th {\n",
       "        text-align: right;\n",
       "    }\n",
       "</style>\n",
       "<table border=\"1\" class=\"dataframe\">\n",
       "  <thead>\n",
       "    <tr style=\"text-align: right;\">\n",
       "      <th></th>\n",
       "      <th>farm_name</th>\n",
       "      <th>farm_lon</th>\n",
       "      <th>farm_lat</th>\n",
       "      <th>temperature</th>\n",
       "      <th>precipitation</th>\n",
       "      <th>soil_type</th>\n",
       "    </tr>\n",
       "  </thead>\n",
       "  <tbody>\n",
       "    <tr>\n",
       "      <th>166</th>\n",
       "      <td>Farm 167</td>\n",
       "      <td>-104.83</td>\n",
       "      <td>51.09</td>\n",
       "      <td>33.0</td>\n",
       "      <td>74.5</td>\n",
       "      <td>black</td>\n",
       "    </tr>\n",
       "    <tr>\n",
       "      <th>590</th>\n",
       "      <td>Farm 591</td>\n",
       "      <td>-102.73</td>\n",
       "      <td>50.58</td>\n",
       "      <td>32.9</td>\n",
       "      <td>67.3</td>\n",
       "      <td>brown</td>\n",
       "    </tr>\n",
       "    <tr>\n",
       "      <th>208</th>\n",
       "      <td>Farm 209</td>\n",
       "      <td>-100.95</td>\n",
       "      <td>50.23</td>\n",
       "      <td>33.0</td>\n",
       "      <td>21.7</td>\n",
       "      <td>dark brown</td>\n",
       "    </tr>\n",
       "    <tr>\n",
       "      <th>311</th>\n",
       "      <td>Farm 312</td>\n",
       "      <td>-100.21</td>\n",
       "      <td>51.67</td>\n",
       "      <td>33.0</td>\n",
       "      <td>71.2</td>\n",
       "      <td>gray</td>\n",
       "    </tr>\n",
       "    <tr>\n",
       "      <th>599</th>\n",
       "      <td>Farm 600</td>\n",
       "      <td>-102.38</td>\n",
       "      <td>51.31</td>\n",
       "      <td>33.0</td>\n",
       "      <td>85.2</td>\n",
       "      <td>None</td>\n",
       "    </tr>\n",
       "  </tbody>\n",
       "</table>\n",
       "</div>"
      ],
      "text/plain": [
       "    farm_name  farm_lon  farm_lat  temperature  precipitation   soil_type\n",
       "166  Farm 167   -104.83     51.09         33.0           74.5       black\n",
       "590  Farm 591   -102.73     50.58         32.9           67.3       brown\n",
       "208  Farm 209   -100.95     50.23         33.0           21.7  dark brown\n",
       "311  Farm 312   -100.21     51.67         33.0           71.2        gray\n",
       "599  Farm 600   -102.38     51.31         33.0           85.2        None"
      ]
     },
     "execution_count": 51,
     "metadata": {},
     "output_type": "execute_result"
    }
   ],
   "source": [
    "## Your code here down\n",
    "idx_max_temp = df.groupby('soil_type', dropna=False)['temperature'].idxmax()\n",
    "df.loc[idx_max_temp]\n",
    "\n",
    "## Your code here up"
   ]
  },
  {
   "attachments": {},
   "cell_type": "markdown",
   "metadata": {},
   "source": [
    "8. Create new column 'percentage_tot_prec' and add the percentage contribution of each farm's precipitation (relative to total precipitation) to the column."
   ]
  },
  {
   "cell_type": "code",
   "execution_count": 52,
   "metadata": {},
   "outputs": [
    {
     "data": {
      "text/html": [
       "<div>\n",
       "<style scoped>\n",
       "    .dataframe tbody tr th:only-of-type {\n",
       "        vertical-align: middle;\n",
       "    }\n",
       "\n",
       "    .dataframe tbody tr th {\n",
       "        vertical-align: top;\n",
       "    }\n",
       "\n",
       "    .dataframe thead th {\n",
       "        text-align: right;\n",
       "    }\n",
       "</style>\n",
       "<table border=\"1\" class=\"dataframe\">\n",
       "  <thead>\n",
       "    <tr style=\"text-align: right;\">\n",
       "      <th></th>\n",
       "      <th>farm_name</th>\n",
       "      <th>farm_lon</th>\n",
       "      <th>farm_lat</th>\n",
       "      <th>temperature</th>\n",
       "      <th>precipitation</th>\n",
       "      <th>soil_type</th>\n",
       "      <th>percentage_tot_prec</th>\n",
       "    </tr>\n",
       "  </thead>\n",
       "  <tbody>\n",
       "    <tr>\n",
       "      <th>599</th>\n",
       "      <td>Farm 600</td>\n",
       "      <td>-102.38</td>\n",
       "      <td>51.31</td>\n",
       "      <td>33.0</td>\n",
       "      <td>85.2</td>\n",
       "      <td>None</td>\n",
       "      <td>0.154199</td>\n",
       "    </tr>\n",
       "    <tr>\n",
       "      <th>166</th>\n",
       "      <td>Farm 167</td>\n",
       "      <td>-104.83</td>\n",
       "      <td>51.09</td>\n",
       "      <td>33.0</td>\n",
       "      <td>74.5</td>\n",
       "      <td>black</td>\n",
       "      <td>0.134833</td>\n",
       "    </tr>\n",
       "    <tr>\n",
       "      <th>311</th>\n",
       "      <td>Farm 312</td>\n",
       "      <td>-100.21</td>\n",
       "      <td>51.67</td>\n",
       "      <td>33.0</td>\n",
       "      <td>71.2</td>\n",
       "      <td>gray</td>\n",
       "      <td>0.128861</td>\n",
       "    </tr>\n",
       "    <tr>\n",
       "      <th>208</th>\n",
       "      <td>Farm 209</td>\n",
       "      <td>-100.95</td>\n",
       "      <td>50.23</td>\n",
       "      <td>33.0</td>\n",
       "      <td>21.7</td>\n",
       "      <td>dark brown</td>\n",
       "      <td>0.039274</td>\n",
       "    </tr>\n",
       "    <tr>\n",
       "      <th>590</th>\n",
       "      <td>Farm 591</td>\n",
       "      <td>-102.73</td>\n",
       "      <td>50.58</td>\n",
       "      <td>32.9</td>\n",
       "      <td>67.3</td>\n",
       "      <td>brown</td>\n",
       "      <td>0.121802</td>\n",
       "    </tr>\n",
       "  </tbody>\n",
       "</table>\n",
       "</div>"
      ],
      "text/plain": [
       "    farm_name  farm_lon  farm_lat  temperature  precipitation   soil_type  \\\n",
       "599  Farm 600   -102.38     51.31         33.0           85.2        None   \n",
       "166  Farm 167   -104.83     51.09         33.0           74.5       black   \n",
       "311  Farm 312   -100.21     51.67         33.0           71.2        gray   \n",
       "208  Farm 209   -100.95     50.23         33.0           21.7  dark brown   \n",
       "590  Farm 591   -102.73     50.58         32.9           67.3       brown   \n",
       "\n",
       "     percentage_tot_prec  \n",
       "599             0.154199  \n",
       "166             0.134833  \n",
       "311             0.128861  \n",
       "208             0.039274  \n",
       "590             0.121802  "
      ]
     },
     "execution_count": 52,
     "metadata": {},
     "output_type": "execute_result"
    }
   ],
   "source": [
    "## Your code here down\n",
    "df['percentage_tot_prec'] = (df['precipitation'] / df['precipitation'].sum()) * 100\n",
    "df.head()\n",
    "## Your code here up"
   ]
  },
  {
   "attachments": {},
   "cell_type": "markdown",
   "metadata": {},
   "source": [
    "9. Create a new column called \"precipitation_rank\" that ranks the farms based on their precipitation in ascending order, with ties being assigned the same rank."
   ]
  },
  {
   "cell_type": "code",
   "execution_count": 53,
   "metadata": {},
   "outputs": [
    {
     "data": {
      "text/html": [
       "<div>\n",
       "<style scoped>\n",
       "    .dataframe tbody tr th:only-of-type {\n",
       "        vertical-align: middle;\n",
       "    }\n",
       "\n",
       "    .dataframe tbody tr th {\n",
       "        vertical-align: top;\n",
       "    }\n",
       "\n",
       "    .dataframe thead th {\n",
       "        text-align: right;\n",
       "    }\n",
       "</style>\n",
       "<table border=\"1\" class=\"dataframe\">\n",
       "  <thead>\n",
       "    <tr style=\"text-align: right;\">\n",
       "      <th></th>\n",
       "      <th>farm_name</th>\n",
       "      <th>farm_lon</th>\n",
       "      <th>farm_lat</th>\n",
       "      <th>temperature</th>\n",
       "      <th>precipitation</th>\n",
       "      <th>soil_type</th>\n",
       "      <th>percentage_tot_prec</th>\n",
       "      <th>precipitation_rank</th>\n",
       "    </tr>\n",
       "  </thead>\n",
       "  <tbody>\n",
       "    <tr>\n",
       "      <th>599</th>\n",
       "      <td>Farm 600</td>\n",
       "      <td>-102.38</td>\n",
       "      <td>51.31</td>\n",
       "      <td>33.0</td>\n",
       "      <td>85.2</td>\n",
       "      <td>None</td>\n",
       "      <td>0.154199</td>\n",
       "      <td>938.0</td>\n",
       "    </tr>\n",
       "    <tr>\n",
       "      <th>166</th>\n",
       "      <td>Farm 167</td>\n",
       "      <td>-104.83</td>\n",
       "      <td>51.09</td>\n",
       "      <td>33.0</td>\n",
       "      <td>74.5</td>\n",
       "      <td>black</td>\n",
       "      <td>0.134833</td>\n",
       "      <td>794.0</td>\n",
       "    </tr>\n",
       "    <tr>\n",
       "      <th>311</th>\n",
       "      <td>Farm 312</td>\n",
       "      <td>-100.21</td>\n",
       "      <td>51.67</td>\n",
       "      <td>33.0</td>\n",
       "      <td>71.2</td>\n",
       "      <td>gray</td>\n",
       "      <td>0.128861</td>\n",
       "      <td>746.0</td>\n",
       "    </tr>\n",
       "    <tr>\n",
       "      <th>208</th>\n",
       "      <td>Farm 209</td>\n",
       "      <td>-100.95</td>\n",
       "      <td>50.23</td>\n",
       "      <td>33.0</td>\n",
       "      <td>21.7</td>\n",
       "      <td>dark brown</td>\n",
       "      <td>0.039274</td>\n",
       "      <td>18.0</td>\n",
       "    </tr>\n",
       "    <tr>\n",
       "      <th>590</th>\n",
       "      <td>Farm 591</td>\n",
       "      <td>-102.73</td>\n",
       "      <td>50.58</td>\n",
       "      <td>32.9</td>\n",
       "      <td>67.3</td>\n",
       "      <td>brown</td>\n",
       "      <td>0.121802</td>\n",
       "      <td>682.0</td>\n",
       "    </tr>\n",
       "  </tbody>\n",
       "</table>\n",
       "</div>"
      ],
      "text/plain": [
       "    farm_name  farm_lon  farm_lat  temperature  precipitation   soil_type  \\\n",
       "599  Farm 600   -102.38     51.31         33.0           85.2        None   \n",
       "166  Farm 167   -104.83     51.09         33.0           74.5       black   \n",
       "311  Farm 312   -100.21     51.67         33.0           71.2        gray   \n",
       "208  Farm 209   -100.95     50.23         33.0           21.7  dark brown   \n",
       "590  Farm 591   -102.73     50.58         32.9           67.3       brown   \n",
       "\n",
       "     percentage_tot_prec  precipitation_rank  \n",
       "599             0.154199               938.0  \n",
       "166             0.134833               794.0  \n",
       "311             0.128861               746.0  \n",
       "208             0.039274                18.0  \n",
       "590             0.121802               682.0  "
      ]
     },
     "execution_count": 53,
     "metadata": {},
     "output_type": "execute_result"
    }
   ],
   "source": [
    "## Your code here down\n",
    "df['precipitation_rank'] = df['precipitation'].rank(method='min', ascending=True)\n",
    "df.head()\n",
    "## Your code here up"
   ]
  },
  {
   "attachments": {},
   "cell_type": "markdown",
   "metadata": {},
   "source": [
    "10. Normalize the temperature column to a range between 0 and 1 for each farm."
   ]
  },
  {
   "cell_type": "code",
   "execution_count": 54,
   "metadata": {},
   "outputs": [
    {
     "data": {
      "text/html": [
       "<div>\n",
       "<style scoped>\n",
       "    .dataframe tbody tr th:only-of-type {\n",
       "        vertical-align: middle;\n",
       "    }\n",
       "\n",
       "    .dataframe tbody tr th {\n",
       "        vertical-align: top;\n",
       "    }\n",
       "\n",
       "    .dataframe thead th {\n",
       "        text-align: right;\n",
       "    }\n",
       "</style>\n",
       "<table border=\"1\" class=\"dataframe\">\n",
       "  <thead>\n",
       "    <tr style=\"text-align: right;\">\n",
       "      <th></th>\n",
       "      <th>farm_name</th>\n",
       "      <th>farm_lon</th>\n",
       "      <th>farm_lat</th>\n",
       "      <th>temperature</th>\n",
       "      <th>precipitation</th>\n",
       "      <th>soil_type</th>\n",
       "      <th>percentage_tot_prec</th>\n",
       "      <th>precipitation_rank</th>\n",
       "      <th>temperature_norm</th>\n",
       "    </tr>\n",
       "  </thead>\n",
       "  <tbody>\n",
       "    <tr>\n",
       "      <th>599</th>\n",
       "      <td>Farm 600</td>\n",
       "      <td>-102.38</td>\n",
       "      <td>51.31</td>\n",
       "      <td>33.0</td>\n",
       "      <td>85.2</td>\n",
       "      <td>None</td>\n",
       "      <td>0.154199</td>\n",
       "      <td>938.0</td>\n",
       "      <td>1.000000</td>\n",
       "    </tr>\n",
       "    <tr>\n",
       "      <th>166</th>\n",
       "      <td>Farm 167</td>\n",
       "      <td>-104.83</td>\n",
       "      <td>51.09</td>\n",
       "      <td>33.0</td>\n",
       "      <td>74.5</td>\n",
       "      <td>black</td>\n",
       "      <td>0.134833</td>\n",
       "      <td>794.0</td>\n",
       "      <td>1.000000</td>\n",
       "    </tr>\n",
       "    <tr>\n",
       "      <th>311</th>\n",
       "      <td>Farm 312</td>\n",
       "      <td>-100.21</td>\n",
       "      <td>51.67</td>\n",
       "      <td>33.0</td>\n",
       "      <td>71.2</td>\n",
       "      <td>gray</td>\n",
       "      <td>0.128861</td>\n",
       "      <td>746.0</td>\n",
       "      <td>1.000000</td>\n",
       "    </tr>\n",
       "    <tr>\n",
       "      <th>208</th>\n",
       "      <td>Farm 209</td>\n",
       "      <td>-100.95</td>\n",
       "      <td>50.23</td>\n",
       "      <td>33.0</td>\n",
       "      <td>21.7</td>\n",
       "      <td>dark brown</td>\n",
       "      <td>0.039274</td>\n",
       "      <td>18.0</td>\n",
       "      <td>1.000000</td>\n",
       "    </tr>\n",
       "    <tr>\n",
       "      <th>590</th>\n",
       "      <td>Farm 591</td>\n",
       "      <td>-102.73</td>\n",
       "      <td>50.58</td>\n",
       "      <td>32.9</td>\n",
       "      <td>67.3</td>\n",
       "      <td>brown</td>\n",
       "      <td>0.121802</td>\n",
       "      <td>682.0</td>\n",
       "      <td>0.993333</td>\n",
       "    </tr>\n",
       "  </tbody>\n",
       "</table>\n",
       "</div>"
      ],
      "text/plain": [
       "    farm_name  farm_lon  farm_lat  temperature  precipitation   soil_type  \\\n",
       "599  Farm 600   -102.38     51.31         33.0           85.2        None   \n",
       "166  Farm 167   -104.83     51.09         33.0           74.5       black   \n",
       "311  Farm 312   -100.21     51.67         33.0           71.2        gray   \n",
       "208  Farm 209   -100.95     50.23         33.0           21.7  dark brown   \n",
       "590  Farm 591   -102.73     50.58         32.9           67.3       brown   \n",
       "\n",
       "     percentage_tot_prec  precipitation_rank  temperature_norm  \n",
       "599             0.154199               938.0          1.000000  \n",
       "166             0.134833               794.0          1.000000  \n",
       "311             0.128861               746.0          1.000000  \n",
       "208             0.039274                18.0          1.000000  \n",
       "590             0.121802               682.0          0.993333  "
      ]
     },
     "execution_count": 54,
     "metadata": {},
     "output_type": "execute_result"
    }
   ],
   "source": [
    "## Your code here down\n",
    "df['temperature_norm'] = (df['temperature'] - df['temperature'].min()) / (df['temperature'].max() - df['temperature'].min())\n",
    "df.head()\n",
    "\n",
    "## Your code here up"
   ]
  },
  {
   "cell_type": "markdown",
   "metadata": {},
   "source": [
    "## ETL"
   ]
  },
  {
   "cell_type": "markdown",
   "metadata": {},
   "source": [
    "11. Change column types accordingly."
   ]
  },
  {
   "cell_type": "code",
   "execution_count": 55,
   "metadata": {},
   "outputs": [
    {
     "name": "stdout",
     "output_type": "stream",
     "text": [
      "<class 'pandas.core.frame.DataFrame'>\n",
      "Index: 1000 entries, 599 to 579\n",
      "Data columns (total 9 columns):\n",
      " #   Column               Non-Null Count  Dtype  \n",
      "---  ------               --------------  -----  \n",
      " 0   farm_name            1000 non-null   string \n",
      " 1   farm_lon             1000 non-null   float64\n",
      " 2   farm_lat             1000 non-null   float64\n",
      " 3   temperature          1000 non-null   float64\n",
      " 4   precipitation        1000 non-null   float64\n",
      " 5   soil_type            795 non-null    string \n",
      " 6   percentage_tot_prec  1000 non-null   float64\n",
      " 7   precipitation_rank   1000 non-null   float64\n",
      " 8   temperature_norm     1000 non-null   float64\n",
      "dtypes: float64(7), string(2)\n",
      "memory usage: 110.4 KB\n"
     ]
    }
   ],
   "source": [
    "## Your code here down\n",
    "df['farm_name'] = df['farm_name'].astype('string')\n",
    "df['soil_type'] = df['soil_type'].astype('string')\n",
    "df.info()\n",
    "## Your code here up"
   ]
  },
  {
   "cell_type": "markdown",
   "metadata": {},
   "source": [
    "## EDA"
   ]
  },
  {
   "cell_type": "markdown",
   "metadata": {},
   "source": [
    "12. Find missing values and give information how would you handle them"
   ]
  },
  {
   "cell_type": "code",
   "execution_count": 56,
   "metadata": {},
   "outputs": [
    {
     "data": {
      "text/plain": [
       "farm_name                0\n",
       "farm_lon                 0\n",
       "farm_lat                 0\n",
       "temperature              0\n",
       "precipitation            0\n",
       "soil_type              205\n",
       "percentage_tot_prec      0\n",
       "precipitation_rank       0\n",
       "temperature_norm         0\n",
       "dtype: int64"
      ]
     },
     "execution_count": 56,
     "metadata": {},
     "output_type": "execute_result"
    }
   ],
   "source": [
    "## Your code here down\n",
    "# missing values can be found using df.info() above, or...\n",
    "df.isna().sum()\n",
    "\n",
    "## Your code here up\n",
    "\n",
    "# Missing values can be handled by filling them with a specific value or identifier (e.g. user-defined, interpolated, etc.), or by dropping the rows with missing values. The 'None' soil-type values are not causing an issue at present, so I am keeping the entire dataset as-is. Also, some pandas functions can handle missing values without issue, such as the groupby function used above."
   ]
  },
  {
   "cell_type": "markdown",
   "metadata": {},
   "source": [
    "13. Find outliers if there is any how would you handle them"
   ]
  },
  {
   "cell_type": "code",
   "execution_count": 57,
   "metadata": {},
   "outputs": [
    {
     "data": {
      "image/png": "[encoded data removed]",
      "text/plain": [
       "<Figure size 640x480 with 1 Axes>"
      ]
     },
     "metadata": {},
     "output_type": "display_data"
    }
   ],
   "source": [
    "## Your code here down\n",
    "import matplotlib.pyplot as plt\n",
    "df.boxplot(column=['temperature', 'precipitation'])\n",
    "plt.show()\n",
    "\n",
    "## Your code here up\n",
    "\n",
    "## If there were outliers, they could be handled by removing, transforming, or capping them, etc. Also, ideally we can consult a subject matter expert to determine if outliers are valid or are of concern. In this case, there are no outliers, so no action is necessary. "
   ]
  },
  {
   "cell_type": "markdown",
   "metadata": {},
   "source": [
    "14. Find descriptive statistics for relavant columns and plot them by using bars."
   ]
  },
  {
   "cell_type": "code",
   "execution_count": 58,
   "metadata": {},
   "outputs": [
    {
     "data": {
      "image/png": "[encoded data removed]",
      "text/plain": [
       "<Figure size 640x480 with 1 Axes>"
      ]
     },
     "metadata": {},
     "output_type": "display_data"
    }
   ],
   "source": [
    "## Your code here down\n",
    "df.drop(columns=['farm_lon', 'farm_lat', 'percentage_tot_prec', 'precipitation_rank', 'temperature_norm']).describe().T\\\n",
    "    .drop(columns='count')\\\n",
    "    .plot(kind='bar')\n",
    "plt.title('Descriptive Statistics', color='green', fontsize=16)\n",
    "plt.xlabel('Weather', color='green',fontsize=14)\n",
    "plt.ylabel('Values', color='green', fontsize=14)\n",
    "plt.xticks(color='red', fontsize=11)\n",
    "plt.yticks(color='red')\n",
    "plt.tight_layout()\n",
    "plt.show()\n",
    "\n",
    "## Your code here up"
   ]
  },
  {
   "cell_type": "markdown",
   "metadata": {},
   "source": [
    "15. Plot the distribution of relevant columns."
   ]
  },
  {
   "cell_type": "code",
   "execution_count": 59,
   "metadata": {},
   "outputs": [
    {
     "data": {
      "image/png": "[encoded data removed]",
      "text/plain": [
       "<Figure size 640x480 with 1 Axes>"
      ]
     },
     "metadata": {},
     "output_type": "display_data"
    },
    {
     "data": {
      "image/png": "[encoded data removed]",
      "text/plain": [
       "<Figure size 640x480 with 1 Axes>"
      ]
     },
     "metadata": {},
     "output_type": "display_data"
    }
   ],
   "source": [
    "## Your code here down\n",
    "df['temperature'].hist(bins=20)\n",
    "plt.show()\n",
    "\n",
    "df['precipitation'].hist(bins=20, color='orange')\n",
    "plt.show()\n",
    "\n",
    "## Your code here up"
   ]
  }
 ],
 "metadata": {
  "kernelspec": {
   "display_name": "Python 3",
   "language": "python",
   "name": "python3"
  },
  "language_info": {
   "codemirror_mode": {
    "name": "ipython",
    "version": 3
   },
   "file_extension": ".py",
   "mimetype": "text/x-python",
   "name": "python",
   "nbconvert_exporter": "python",
   "pygments_lexer": "ipython3",
   "version": "3.10.13"
  },
  "orig_nbformat": 4
 },
 "nbformat": 4,
 "nbformat_minor": 2
}
