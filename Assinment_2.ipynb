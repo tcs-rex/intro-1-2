{
 "cells": [
  {
   "attachments": {},
   "cell_type": "markdown",
   "metadata": {},
   "source": [
    "# Assignment 2"
   ]
  },
  {
   "attachments": {},
   "cell_type": "markdown",
   "metadata": {},
   "source": [
    "**Please follow the instructions. Do not add new cell! Write your code in designated areas.**"
   ]
  },
  {
   "cell_type": "code",
   "execution_count": 263,
   "metadata": {},
   "outputs": [
    {
     "name": "stdout",
     "output_type": "stream",
     "text": [
      "Assignment 1 & 2: Solutions by John\n",
      "Local Time: 2024-02-09 09:40:44\n",
      "Computer ID: Steves-Air\n"
     ]
    }
   ],
   "source": [
    "import numpy as np\n",
    "import datetime\n",
    "import socket\n",
    "\n",
    "# Get local time\n",
    "local_time = datetime.datetime.now().strftime(\"%Y-%m-%d %H:%M:%S\")\n",
    "\n",
    "# Get computer ID or hostname\n",
    "computer_id = socket.gethostname()\n",
    "\n",
    "# Print output with local time and computer ID\n",
    "print('Assignment 1 & 2: Solutions by John') # Please change your name here\n",
    "print('Local Time:', local_time)\n",
    "print('Computer ID:', computer_id)"
   ]
  },
  {
   "attachments": {},
   "cell_type": "markdown",
   "metadata": {},
   "source": [
    "## NumPy"
   ]
  },
  {
   "attachments": {},
   "cell_type": "markdown",
   "metadata": {},
   "source": [
    "1. Create a 2D numpy array of size 4x5 with random integers between 1 and 10. Find the maximum value of the entire array. \n"
   ]
  },
  {
   "cell_type": "code",
   "execution_count": 264,
   "metadata": {},
   "outputs": [
    {
     "name": "stdout",
     "output_type": "stream",
     "text": [
      "max: 10 \n",
      "mean: 4.5 \n",
      "std=dev: 2.692582403567252\n"
     ]
    }
   ],
   "source": [
    "## Your code here down\n",
    "array_2d = np.random.randint(1, 11, size=(4, 5))\n",
    "max_value = np.max(array_2d)\n",
    "mean_value = np.mean(array_2d)\n",
    "std_value = np.std(array_2d)\n",
    "print('max:', max_value, '\\nmean:', mean_value, '\\nstd=dev:', std_value)\n",
    "## Your code here up"
   ]
  },
  {
   "attachments": {},
   "cell_type": "markdown",
   "metadata": {},
   "source": [
    "2. Create a 1D numpy array of size 20 with random floats between 0 and 1. Reshape the array into a 4x5 matrix. Compute the mean of each row."
   ]
  },
  {
   "cell_type": "code",
   "execution_count": 265,
   "metadata": {},
   "outputs": [
    {
     "name": "stdout",
     "output_type": "stream",
     "text": [
      "shape (4, 5)\n",
      "row means: \n",
      " [0.51555819 0.4045718  0.29809274 0.38993747]\n"
     ]
    }
   ],
   "source": [
    "## Your code here down\n",
    "array_1d = np.random.rand(20)\n",
    "array_2d = array_1d.reshape(4, 5)\n",
    "print('shape', array_2d.shape)\n",
    "row_means = np.mean(array_2d, axis=1)\n",
    "\n",
    "# # Print the mean of each row\n",
    "print(\"row means: \\n\", row_means)\n",
    "\n",
    "## Your code here up"
   ]
  },
  {
   "attachments": {},
   "cell_type": "markdown",
   "metadata": {},
   "source": [
    "3. Create a 2D numpy array of size 5x5 with random integers between 1 and 100. Compute standard deviation of each column."
   ]
  },
  {
   "cell_type": "code",
   "execution_count": 266,
   "metadata": {},
   "outputs": [
    {
     "name": "stdout",
     "output_type": "stream",
     "text": [
      "std-dev of cols: \n",
      " [25.12050955 30.46309242 27.3642102  32.75606814 19.76866207]\n"
     ]
    }
   ],
   "source": [
    "## Your code here down\n",
    "array_2d = np.random.randint(1, 101, size=(5, 5))\n",
    "column_std_devs = np.std(array_2d, axis=0)\n",
    "\n",
    "# Print the standard deviation of each column\n",
    "print(\"std-dev of cols: \\n\", column_std_devs)\n",
    "\n",
    "## Your code here up"
   ]
  },
  {
   "attachments": {},
   "cell_type": "markdown",
   "metadata": {},
   "source": [
    "4. Create a 1D numpy array of size 15 with random floats between -10 and 10. Replace all negative values with their absolute values."
   ]
  },
  {
   "cell_type": "code",
   "execution_count": 267,
   "metadata": {},
   "outputs": [
    {
     "data": {
      "text/plain": [
       "True"
      ]
     },
     "execution_count": 267,
     "metadata": {},
     "output_type": "execute_result"
    }
   ],
   "source": [
    "## Your code here down\n",
    "array = np.abs(np.random.uniform(-10, 10, size=15))\n",
    "np.all(array >= 0)\n",
    "\n",
    "## Your code here up"
   ]
  },
  {
   "attachments": {},
   "cell_type": "markdown",
   "metadata": {},
   "source": [
    "5. Create a 2D numpy array of size 3x4 with random integers between 1 and 100. Calculate the sum of all elements in the array."
   ]
  },
  {
   "cell_type": "code",
   "execution_count": 268,
   "metadata": {},
   "outputs": [
    {
     "name": "stdout",
     "output_type": "stream",
     "text": [
      "Sum: 498\n"
     ]
    }
   ],
   "source": [
    "## Your code here down\n",
    "array_sum = np.sum(np.random.randint(1, 101, size=(3, 4)))\n",
    "print(\"Sum:\", array_sum)\n",
    "\n",
    "## Your code here up"
   ]
  },
  {
   "attachments": {},
   "cell_type": "markdown",
   "metadata": {},
   "source": [
    "7. Create a 2D numpy array of size 4x6 with random floats between 0 and 1. Normalize each column by subtracting the column mean and dividing by the column standard deviation."
   ]
  },
  {
   "cell_type": "code",
   "execution_count": 269,
   "metadata": {},
   "outputs": [
    {
     "name": "stdout",
     "output_type": "stream",
     "text": [
      "Normalized Array:\n",
      " [[ 0.87529202  1.66878784 -1.573509   -1.33559815 -0.0997377   0.88301183]\n",
      " [ 1.10509465 -0.66465364  0.37517666 -0.36044972  0.81967062  0.0165894 ]\n",
      " [-1.15091668 -0.86897304  0.02240293  1.41721827 -1.59670426 -1.63626041]\n",
      " [-0.82947    -0.13516116  1.17592942  0.2788296   0.87677134  0.73665919]]\n"
     ]
    }
   ],
   "source": [
    "## Your code here down\n",
    "array_2d = np.random.rand(4, 6)\n",
    "column_means = np.mean(array_2d, axis=0)\n",
    "column_std_devs = np.std(array_2d, axis=0)\n",
    "normalized_array_2d = (array_2d - column_means) / column_std_devs\n",
    "\n",
    "print(\"Normalized Array:\\n\", normalized_array_2d)\n",
    "\n",
    "## Your code here up"
   ]
  },
  {
   "attachments": {},
   "cell_type": "markdown",
   "metadata": {},
   "source": [
    "8. Create a 2D numpy array of size 10x10 with random integers between 1 and 100. Replace all values greater than 50 with 1 and all other values with 0."
   ]
  },
  {
   "cell_type": "code",
   "execution_count": 270,
   "metadata": {},
   "outputs": [
    {
     "name": "stdout",
     "output_type": "stream",
     "text": [
      "Array after replacement:\n",
      " [[1 1 1 1 0 0 1 0 0 1]\n",
      " [1 1 1 0 0 0 1 0 0 1]\n",
      " [0 0 0 0 0 1 0 1 1 0]\n",
      " [1 1 0 1 1 1 0 1 1 0]\n",
      " [1 0 0 1 1 1 0 0 1 0]\n",
      " [0 0 0 0 0 1 1 1 0 0]\n",
      " [0 1 1 0 1 0 0 1 1 0]\n",
      " [1 1 1 1 1 1 1 1 1 1]\n",
      " [1 0 1 1 0 0 1 1 0 1]\n",
      " [1 1 1 0 1 0 1 0 1 1]]\n"
     ]
    }
   ],
   "source": [
    "## Your code here down\n",
    "array_2d = np.random.randint(1, 101, size=(10, 10))\n",
    "array_2d[array_2d <= 50] = 0\n",
    "array_2d[array_2d > 50] = 1\n",
    "print(\"Array after replacement:\\n\", array_2d)\n",
    "\n",
    "## Your code here up"
   ]
  },
  {
   "attachments": {},
   "cell_type": "markdown",
   "metadata": {},
   "source": [
    "9. Create a 1D numpy array of size 50 with random floats between 0 and 1. Find the number of elements greater than 0.5."
   ]
  },
  {
   "cell_type": "code",
   "execution_count": 271,
   "metadata": {},
   "outputs": [
    {
     "name": "stdout",
     "output_type": "stream",
     "text": [
      "elements > 0.5:  26\n"
     ]
    }
   ],
   "source": [
    "## Your code here down\n",
    "# Create a 1D numpy array of size 50 with random floats between 0 and 1\n",
    "array_1d = np.random.rand(50)\n",
    "count = np.sum(array_1d > 0.5)\n",
    "print(\"elements > 0.5: \", count)\n",
    "\n",
    "## Your code here up"
   ]
  },
  {
   "attachments": {},
   "cell_type": "markdown",
   "metadata": {},
   "source": [
    "10. Create a 2D numpy array of size 5x5 with random floats between -1 and 1. Find the absolute difference between the maximum and minimum values in each row."
   ]
  },
  {
   "cell_type": "code",
   "execution_count": 272,
   "metadata": {},
   "outputs": [
    {
     "name": "stdout",
     "output_type": "stream",
     "text": [
      "abs diffs of row min max:  [1.21242022 1.18440242 1.36461282 0.422435   0.63835571]\n"
     ]
    }
   ],
   "source": [
    "## Your code here down\n",
    "array_2d = np.random.uniform(-1, 1, size=(5, 5))\n",
    "abs_diff_max_min_row = np.abs(np.max(array_2d, axis=1) - np.min(array_2d, axis=1))\n",
    "print(\"abs diffs of row min max: \", abs_diff_max_min_row)\n",
    "\n",
    "## Your code here up"
   ]
  },
  {
   "attachments": {},
   "cell_type": "markdown",
   "metadata": {},
   "source": [
    "## Pandas"
   ]
  },
  {
   "attachments": {},
   "cell_type": "markdown",
   "metadata": {},
   "source": [
    "Please refer the dataframe (farm data) we have created in the training. Please copy that cell and paste it below before starting this part. "
   ]
  },
  {
   "cell_type": "code",
   "execution_count": 273,
   "metadata": {},
   "outputs": [],
   "source": [
    "import random\n",
    "import pandas as pd\n",
    "\n",
    "# Define the range for longitude and latitude\n",
    "lon_range = (-105, -100)\n",
    "lat_range = (50, 52)\n",
    "\n",
    "# Define the list of soil types\n",
    "soil_types = ['black', 'gray', 'dark brown', 'brown', None]\n",
    "\n",
    "# Create an empty list to store the farms\n",
    "farms = []\n",
    "\n",
    "# Generate 40 farms\n",
    "for i in range(1000):\n",
    "    farm = {\n",
    "        'farm_name': f'Farm {i+1}', # f is formated string\n",
    "        'farm_lon': round(random.uniform(lon_range[0], lon_range[1]), 2), # random lon with 2 decimal points\n",
    "        'farm_lat': round(random.uniform(lat_range[0], lat_range[1]), 2), # rantom lat with 2 decimal points\n",
    "        'temperature': round(random.uniform(18, 33), 1), #random temp with 1 decimal points\n",
    "        'precipitation': round(random.uniform(20, 90), 1), # random prec with 1 decimal points\n",
    "        'soil_type': random.choice(soil_types) # random soil types from above list\n",
    "    }\n",
    "    farms.append(farm)"
   ]
  },
  {
   "cell_type": "code",
   "execution_count": 274,
   "metadata": {},
   "outputs": [
    {
     "data": {
      "text/html": [
       "<div>\n",
       "<style scoped>\n",
       "    .dataframe tbody tr th:only-of-type {\n",
       "        vertical-align: middle;\n",
       "    }\n",
       "\n",
       "    .dataframe tbody tr th {\n",
       "        vertical-align: top;\n",
       "    }\n",
       "\n",
       "    .dataframe thead th {\n",
       "        text-align: right;\n",
       "    }\n",
       "</style>\n",
       "<table border=\"1\" class=\"dataframe\">\n",
       "  <thead>\n",
       "    <tr style=\"text-align: right;\">\n",
       "      <th></th>\n",
       "      <th>farm_name</th>\n",
       "      <th>farm_lon</th>\n",
       "      <th>farm_lat</th>\n",
       "      <th>temperature</th>\n",
       "      <th>precipitation</th>\n",
       "      <th>soil_type</th>\n",
       "    </tr>\n",
       "  </thead>\n",
       "  <tbody>\n",
       "    <tr>\n",
       "      <th>0</th>\n",
       "      <td>Farm 1</td>\n",
       "      <td>-104.74</td>\n",
       "      <td>50.99</td>\n",
       "      <td>23.0</td>\n",
       "      <td>68.7</td>\n",
       "      <td>brown</td>\n",
       "    </tr>\n",
       "    <tr>\n",
       "      <th>1</th>\n",
       "      <td>Farm 2</td>\n",
       "      <td>-101.99</td>\n",
       "      <td>51.62</td>\n",
       "      <td>22.9</td>\n",
       "      <td>83.7</td>\n",
       "      <td>gray</td>\n",
       "    </tr>\n",
       "    <tr>\n",
       "      <th>2</th>\n",
       "      <td>Farm 3</td>\n",
       "      <td>-100.79</td>\n",
       "      <td>50.30</td>\n",
       "      <td>20.0</td>\n",
       "      <td>72.0</td>\n",
       "      <td>brown</td>\n",
       "    </tr>\n",
       "    <tr>\n",
       "      <th>3</th>\n",
       "      <td>Farm 4</td>\n",
       "      <td>-100.71</td>\n",
       "      <td>51.56</td>\n",
       "      <td>23.1</td>\n",
       "      <td>28.6</td>\n",
       "      <td>None</td>\n",
       "    </tr>\n",
       "    <tr>\n",
       "      <th>4</th>\n",
       "      <td>Farm 5</td>\n",
       "      <td>-100.96</td>\n",
       "      <td>51.85</td>\n",
       "      <td>27.1</td>\n",
       "      <td>45.7</td>\n",
       "      <td>brown</td>\n",
       "    </tr>\n",
       "  </tbody>\n",
       "</table>\n",
       "</div>"
      ],
      "text/plain": [
       "  farm_name  farm_lon  farm_lat  temperature  precipitation soil_type\n",
       "0    Farm 1   -104.74     50.99         23.0           68.7     brown\n",
       "1    Farm 2   -101.99     51.62         22.9           83.7      gray\n",
       "2    Farm 3   -100.79     50.30         20.0           72.0     brown\n",
       "3    Farm 4   -100.71     51.56         23.1           28.6      None\n",
       "4    Farm 5   -100.96     51.85         27.1           45.7     brown"
      ]
     },
     "execution_count": 274,
     "metadata": {},
     "output_type": "execute_result"
    }
   ],
   "source": [
    "df = pd.DataFrame(farms)\n",
    "df.head()"
   ]
  },
  {
   "attachments": {},
   "cell_type": "markdown",
   "metadata": {},
   "source": [
    "1. Select the rows where the temperature is above 20 degrees Celsius."
   ]
  },
  {
   "cell_type": "code",
   "execution_count": 275,
   "metadata": {},
   "outputs": [
    {
     "data": {
      "text/html": [
       "<div>\n",
       "<style scoped>\n",
       "    .dataframe tbody tr th:only-of-type {\n",
       "        vertical-align: middle;\n",
       "    }\n",
       "\n",
       "    .dataframe tbody tr th {\n",
       "        vertical-align: top;\n",
       "    }\n",
       "\n",
       "    .dataframe thead th {\n",
       "        text-align: right;\n",
       "    }\n",
       "</style>\n",
       "<table border=\"1\" class=\"dataframe\">\n",
       "  <thead>\n",
       "    <tr style=\"text-align: right;\">\n",
       "      <th></th>\n",
       "      <th>farm_name</th>\n",
       "      <th>farm_lon</th>\n",
       "      <th>farm_lat</th>\n",
       "      <th>temperature</th>\n",
       "      <th>precipitation</th>\n",
       "      <th>soil_type</th>\n",
       "    </tr>\n",
       "  </thead>\n",
       "  <tbody>\n",
       "    <tr>\n",
       "      <th>0</th>\n",
       "      <td>Farm 1</td>\n",
       "      <td>-104.74</td>\n",
       "      <td>50.99</td>\n",
       "      <td>23.0</td>\n",
       "      <td>68.7</td>\n",
       "      <td>brown</td>\n",
       "    </tr>\n",
       "    <tr>\n",
       "      <th>1</th>\n",
       "      <td>Farm 2</td>\n",
       "      <td>-101.99</td>\n",
       "      <td>51.62</td>\n",
       "      <td>22.9</td>\n",
       "      <td>83.7</td>\n",
       "      <td>gray</td>\n",
       "    </tr>\n",
       "    <tr>\n",
       "      <th>3</th>\n",
       "      <td>Farm 4</td>\n",
       "      <td>-100.71</td>\n",
       "      <td>51.56</td>\n",
       "      <td>23.1</td>\n",
       "      <td>28.6</td>\n",
       "      <td>None</td>\n",
       "    </tr>\n",
       "    <tr>\n",
       "      <th>4</th>\n",
       "      <td>Farm 5</td>\n",
       "      <td>-100.96</td>\n",
       "      <td>51.85</td>\n",
       "      <td>27.1</td>\n",
       "      <td>45.7</td>\n",
       "      <td>brown</td>\n",
       "    </tr>\n",
       "    <tr>\n",
       "      <th>5</th>\n",
       "      <td>Farm 6</td>\n",
       "      <td>-103.89</td>\n",
       "      <td>50.38</td>\n",
       "      <td>21.1</td>\n",
       "      <td>26.2</td>\n",
       "      <td>None</td>\n",
       "    </tr>\n",
       "  </tbody>\n",
       "</table>\n",
       "</div>"
      ],
      "text/plain": [
       "  farm_name  farm_lon  farm_lat  temperature  precipitation soil_type\n",
       "0    Farm 1   -104.74     50.99         23.0           68.7     brown\n",
       "1    Farm 2   -101.99     51.62         22.9           83.7      gray\n",
       "3    Farm 4   -100.71     51.56         23.1           28.6      None\n",
       "4    Farm 5   -100.96     51.85         27.1           45.7     brown\n",
       "5    Farm 6   -103.89     50.38         21.1           26.2      None"
      ]
     },
     "execution_count": 275,
     "metadata": {},
     "output_type": "execute_result"
    }
   ],
   "source": [
    "## Your code here down\n",
    "rows_temp_greater_20 = df[df['temperature'] > 20]\n",
    "rows_temp_greater_20.head()\n",
    "## Your code here up"
   ]
  },
  {
   "attachments": {},
   "cell_type": "markdown",
   "metadata": {},
   "source": [
    "2. Sort the DataFrame by precipitation in descending order."
   ]
  },
  {
   "cell_type": "code",
   "execution_count": 276,
   "metadata": {},
   "outputs": [
    {
     "data": {
      "text/html": [
       "<div>\n",
       "<style scoped>\n",
       "    .dataframe tbody tr th:only-of-type {\n",
       "        vertical-align: middle;\n",
       "    }\n",
       "\n",
       "    .dataframe tbody tr th {\n",
       "        vertical-align: top;\n",
       "    }\n",
       "\n",
       "    .dataframe thead th {\n",
       "        text-align: right;\n",
       "    }\n",
       "</style>\n",
       "<table border=\"1\" class=\"dataframe\">\n",
       "  <thead>\n",
       "    <tr style=\"text-align: right;\">\n",
       "      <th></th>\n",
       "      <th>farm_name</th>\n",
       "      <th>farm_lon</th>\n",
       "      <th>farm_lat</th>\n",
       "      <th>temperature</th>\n",
       "      <th>precipitation</th>\n",
       "      <th>soil_type</th>\n",
       "    </tr>\n",
       "  </thead>\n",
       "  <tbody>\n",
       "    <tr>\n",
       "      <th>166</th>\n",
       "      <td>Farm 167</td>\n",
       "      <td>-102.55</td>\n",
       "      <td>51.52</td>\n",
       "      <td>32.7</td>\n",
       "      <td>89.7</td>\n",
       "      <td>gray</td>\n",
       "    </tr>\n",
       "    <tr>\n",
       "      <th>271</th>\n",
       "      <td>Farm 272</td>\n",
       "      <td>-103.98</td>\n",
       "      <td>51.61</td>\n",
       "      <td>19.4</td>\n",
       "      <td>89.5</td>\n",
       "      <td>brown</td>\n",
       "    </tr>\n",
       "    <tr>\n",
       "      <th>213</th>\n",
       "      <td>Farm 214</td>\n",
       "      <td>-100.71</td>\n",
       "      <td>51.43</td>\n",
       "      <td>23.3</td>\n",
       "      <td>89.4</td>\n",
       "      <td>black</td>\n",
       "    </tr>\n",
       "    <tr>\n",
       "      <th>709</th>\n",
       "      <td>Farm 710</td>\n",
       "      <td>-103.46</td>\n",
       "      <td>50.69</td>\n",
       "      <td>18.8</td>\n",
       "      <td>89.2</td>\n",
       "      <td>dark brown</td>\n",
       "    </tr>\n",
       "    <tr>\n",
       "      <th>376</th>\n",
       "      <td>Farm 377</td>\n",
       "      <td>-104.78</td>\n",
       "      <td>50.94</td>\n",
       "      <td>32.3</td>\n",
       "      <td>89.1</td>\n",
       "      <td>dark brown</td>\n",
       "    </tr>\n",
       "  </tbody>\n",
       "</table>\n",
       "</div>"
      ],
      "text/plain": [
       "    farm_name  farm_lon  farm_lat  temperature  precipitation   soil_type\n",
       "166  Farm 167   -102.55     51.52         32.7           89.7        gray\n",
       "271  Farm 272   -103.98     51.61         19.4           89.5       brown\n",
       "213  Farm 214   -100.71     51.43         23.3           89.4       black\n",
       "709  Farm 710   -103.46     50.69         18.8           89.2  dark brown\n",
       "376  Farm 377   -104.78     50.94         32.3           89.1  dark brown"
      ]
     },
     "execution_count": 276,
     "metadata": {},
     "output_type": "execute_result"
    }
   ],
   "source": [
    "## Your code here down\n",
    "df.sort_values(by='precipitation', ascending=False, inplace=True)\n",
    "df.head()\n",
    "## Your code here up"
   ]
  },
  {
   "attachments": {},
   "cell_type": "markdown",
   "metadata": {},
   "source": [
    "3. Filter the DataFrame to include only the farms located within latitude (51.15 & 51.00) range."
   ]
  },
  {
   "cell_type": "code",
   "execution_count": 277,
   "metadata": {},
   "outputs": [
    {
     "data": {
      "text/html": [
       "<div>\n",
       "<style scoped>\n",
       "    .dataframe tbody tr th:only-of-type {\n",
       "        vertical-align: middle;\n",
       "    }\n",
       "\n",
       "    .dataframe tbody tr th {\n",
       "        vertical-align: top;\n",
       "    }\n",
       "\n",
       "    .dataframe thead th {\n",
       "        text-align: right;\n",
       "    }\n",
       "</style>\n",
       "<table border=\"1\" class=\"dataframe\">\n",
       "  <thead>\n",
       "    <tr style=\"text-align: right;\">\n",
       "      <th></th>\n",
       "      <th>farm_name</th>\n",
       "      <th>farm_lon</th>\n",
       "      <th>farm_lat</th>\n",
       "      <th>temperature</th>\n",
       "      <th>precipitation</th>\n",
       "      <th>soil_type</th>\n",
       "    </tr>\n",
       "  </thead>\n",
       "  <tbody>\n",
       "    <tr>\n",
       "      <th>554</th>\n",
       "      <td>Farm 555</td>\n",
       "      <td>-103.22</td>\n",
       "      <td>51.11</td>\n",
       "      <td>23.5</td>\n",
       "      <td>89.0</td>\n",
       "      <td>None</td>\n",
       "    </tr>\n",
       "    <tr>\n",
       "      <th>761</th>\n",
       "      <td>Farm 762</td>\n",
       "      <td>-100.94</td>\n",
       "      <td>51.05</td>\n",
       "      <td>29.9</td>\n",
       "      <td>88.0</td>\n",
       "      <td>None</td>\n",
       "    </tr>\n",
       "    <tr>\n",
       "      <th>609</th>\n",
       "      <td>Farm 610</td>\n",
       "      <td>-104.09</td>\n",
       "      <td>51.07</td>\n",
       "      <td>19.4</td>\n",
       "      <td>87.4</td>\n",
       "      <td>brown</td>\n",
       "    </tr>\n",
       "    <tr>\n",
       "      <th>574</th>\n",
       "      <td>Farm 575</td>\n",
       "      <td>-104.52</td>\n",
       "      <td>51.06</td>\n",
       "      <td>27.3</td>\n",
       "      <td>87.0</td>\n",
       "      <td>gray</td>\n",
       "    </tr>\n",
       "    <tr>\n",
       "      <th>678</th>\n",
       "      <td>Farm 679</td>\n",
       "      <td>-104.49</td>\n",
       "      <td>51.10</td>\n",
       "      <td>28.2</td>\n",
       "      <td>86.9</td>\n",
       "      <td>gray</td>\n",
       "    </tr>\n",
       "  </tbody>\n",
       "</table>\n",
       "</div>"
      ],
      "text/plain": [
       "    farm_name  farm_lon  farm_lat  temperature  precipitation soil_type\n",
       "554  Farm 555   -103.22     51.11         23.5           89.0      None\n",
       "761  Farm 762   -100.94     51.05         29.9           88.0      None\n",
       "609  Farm 610   -104.09     51.07         19.4           87.4     brown\n",
       "574  Farm 575   -104.52     51.06         27.3           87.0      gray\n",
       "678  Farm 679   -104.49     51.10         28.2           86.9      gray"
      ]
     },
     "execution_count": 277,
     "metadata": {},
     "output_type": "execute_result"
    }
   ],
   "source": [
    "## Your code here down\n",
    "filtered_df = df[(df['farm_lat'] >= 51.00) & (df['farm_lat'] <= 51.15)]\n",
    "filtered_df.head()\n",
    "## Your code here up"
   ]
  },
  {
   "attachments": {},
   "cell_type": "markdown",
   "metadata": {},
   "source": [
    " 4. Calculate the standard deviation of precipitation for each soil type."
   ]
  },
  {
   "cell_type": "code",
   "execution_count": 278,
   "metadata": {},
   "outputs": [
    {
     "name": "stdout",
     "output_type": "stream",
     "text": [
      "soil_type\n",
      "black         18.694224\n",
      "brown         20.211301\n",
      "dark brown    20.170775\n",
      "gray          20.394403\n",
      "NaN           20.579726\n",
      "Name: precipitation, dtype: float64\n"
     ]
    }
   ],
   "source": [
    "## Your code here down\n",
    "print(df.groupby('soil_type', dropna=False)['precipitation'].std())\n",
    "\n",
    "## Your code here up"
   ]
  },
  {
   "attachments": {},
   "cell_type": "markdown",
   "metadata": {},
   "source": [
    "5. Calculate the cumulative sum of precipitation for each soil type."
   ]
  },
  {
   "cell_type": "code",
   "execution_count": 279,
   "metadata": {},
   "outputs": [
    {
     "name": "stdout",
     "output_type": "stream",
     "text": [
      "soil_type\n",
      "black         11797.3\n",
      "brown         11353.4\n",
      "dark brown    10641.6\n",
      "gray          10273.3\n",
      "NaN           11702.9\n",
      "Name: precipitation, dtype: float64\n"
     ]
    }
   ],
   "source": [
    "## Your code here down\n",
    "print(df.groupby('soil_type', dropna=False)['precipitation'].sum())\n",
    "\n",
    "## Your code here up"
   ]
  },
  {
   "attachments": {},
   "cell_type": "markdown",
   "metadata": {},
   "source": [
    "6. Determine the top 3 farms with the highest average temperature."
   ]
  },
  {
   "cell_type": "code",
   "execution_count": 280,
   "metadata": {},
   "outputs": [
    {
     "data": {
      "text/html": [
       "<div>\n",
       "<style scoped>\n",
       "    .dataframe tbody tr th:only-of-type {\n",
       "        vertical-align: middle;\n",
       "    }\n",
       "\n",
       "    .dataframe tbody tr th {\n",
       "        vertical-align: top;\n",
       "    }\n",
       "\n",
       "    .dataframe thead th {\n",
       "        text-align: right;\n",
       "    }\n",
       "</style>\n",
       "<table border=\"1\" class=\"dataframe\">\n",
       "  <thead>\n",
       "    <tr style=\"text-align: right;\">\n",
       "      <th></th>\n",
       "      <th>farm_name</th>\n",
       "      <th>farm_lon</th>\n",
       "      <th>farm_lat</th>\n",
       "      <th>temperature</th>\n",
       "      <th>precipitation</th>\n",
       "      <th>soil_type</th>\n",
       "    </tr>\n",
       "  </thead>\n",
       "  <tbody>\n",
       "    <tr>\n",
       "      <th>905</th>\n",
       "      <td>Farm 906</td>\n",
       "      <td>-102.12</td>\n",
       "      <td>50.08</td>\n",
       "      <td>33.0</td>\n",
       "      <td>50.2</td>\n",
       "      <td>brown</td>\n",
       "    </tr>\n",
       "    <tr>\n",
       "      <th>819</th>\n",
       "      <td>Farm 820</td>\n",
       "      <td>-101.11</td>\n",
       "      <td>50.91</td>\n",
       "      <td>33.0</td>\n",
       "      <td>26.6</td>\n",
       "      <td>None</td>\n",
       "    </tr>\n",
       "    <tr>\n",
       "      <th>613</th>\n",
       "      <td>Farm 614</td>\n",
       "      <td>-103.28</td>\n",
       "      <td>50.93</td>\n",
       "      <td>33.0</td>\n",
       "      <td>74.6</td>\n",
       "      <td>black</td>\n",
       "    </tr>\n",
       "  </tbody>\n",
       "</table>\n",
       "</div>"
      ],
      "text/plain": [
       "    farm_name  farm_lon  farm_lat  temperature  precipitation soil_type\n",
       "905  Farm 906   -102.12     50.08         33.0           50.2     brown\n",
       "819  Farm 820   -101.11     50.91         33.0           26.6      None\n",
       "613  Farm 614   -103.28     50.93         33.0           74.6     black"
      ]
     },
     "execution_count": 280,
     "metadata": {},
     "output_type": "execute_result"
    }
   ],
   "source": [
    "## Your code here down\n",
    "df.sort_values(by='temperature', ascending=False, inplace=True)\n",
    "df.head(3)\n",
    "\n",
    "## Your code here up"
   ]
  },
  {
   "attachments": {},
   "cell_type": "markdown",
   "metadata": {},
   "source": [
    "7. Find famrs in each soil type that have the highest temperature."
   ]
  },
  {
   "cell_type": "code",
   "execution_count": 281,
   "metadata": {},
   "outputs": [
    {
     "data": {
      "text/html": [
       "<div>\n",
       "<style scoped>\n",
       "    .dataframe tbody tr th:only-of-type {\n",
       "        vertical-align: middle;\n",
       "    }\n",
       "\n",
       "    .dataframe tbody tr th {\n",
       "        vertical-align: top;\n",
       "    }\n",
       "\n",
       "    .dataframe thead th {\n",
       "        text-align: right;\n",
       "    }\n",
       "</style>\n",
       "<table border=\"1\" class=\"dataframe\">\n",
       "  <thead>\n",
       "    <tr style=\"text-align: right;\">\n",
       "      <th></th>\n",
       "      <th>farm_name</th>\n",
       "      <th>farm_lon</th>\n",
       "      <th>farm_lat</th>\n",
       "      <th>temperature</th>\n",
       "      <th>precipitation</th>\n",
       "      <th>soil_type</th>\n",
       "    </tr>\n",
       "  </thead>\n",
       "  <tbody>\n",
       "    <tr>\n",
       "      <th>613</th>\n",
       "      <td>Farm 614</td>\n",
       "      <td>-103.28</td>\n",
       "      <td>50.93</td>\n",
       "      <td>33.0</td>\n",
       "      <td>74.6</td>\n",
       "      <td>black</td>\n",
       "    </tr>\n",
       "    <tr>\n",
       "      <th>905</th>\n",
       "      <td>Farm 906</td>\n",
       "      <td>-102.12</td>\n",
       "      <td>50.08</td>\n",
       "      <td>33.0</td>\n",
       "      <td>50.2</td>\n",
       "      <td>brown</td>\n",
       "    </tr>\n",
       "    <tr>\n",
       "      <th>231</th>\n",
       "      <td>Farm 232</td>\n",
       "      <td>-104.01</td>\n",
       "      <td>51.65</td>\n",
       "      <td>32.9</td>\n",
       "      <td>41.6</td>\n",
       "      <td>dark brown</td>\n",
       "    </tr>\n",
       "    <tr>\n",
       "      <th>753</th>\n",
       "      <td>Farm 754</td>\n",
       "      <td>-100.33</td>\n",
       "      <td>50.98</td>\n",
       "      <td>32.9</td>\n",
       "      <td>49.1</td>\n",
       "      <td>gray</td>\n",
       "    </tr>\n",
       "    <tr>\n",
       "      <th>819</th>\n",
       "      <td>Farm 820</td>\n",
       "      <td>-101.11</td>\n",
       "      <td>50.91</td>\n",
       "      <td>33.0</td>\n",
       "      <td>26.6</td>\n",
       "      <td>None</td>\n",
       "    </tr>\n",
       "  </tbody>\n",
       "</table>\n",
       "</div>"
      ],
      "text/plain": [
       "    farm_name  farm_lon  farm_lat  temperature  precipitation   soil_type\n",
       "613  Farm 614   -103.28     50.93         33.0           74.6       black\n",
       "905  Farm 906   -102.12     50.08         33.0           50.2       brown\n",
       "231  Farm 232   -104.01     51.65         32.9           41.6  dark brown\n",
       "753  Farm 754   -100.33     50.98         32.9           49.1        gray\n",
       "819  Farm 820   -101.11     50.91         33.0           26.6        None"
      ]
     },
     "execution_count": 281,
     "metadata": {},
     "output_type": "execute_result"
    }
   ],
   "source": [
    "## Your code here down\n",
    "idx_max_temp = df.groupby('soil_type', dropna=False)['temperature'].idxmax()\n",
    "df.loc[idx_max_temp]\n",
    "\n",
    "## Your code here up"
   ]
  },
  {
   "attachments": {},
   "cell_type": "markdown",
   "metadata": {},
   "source": [
    "8. Create new column 'percentage_tot_prec' and add the percentage contribution of each farm's precipitation (relative to total precipitation) to the column."
   ]
  },
  {
   "cell_type": "code",
   "execution_count": 282,
   "metadata": {},
   "outputs": [
    {
     "data": {
      "text/html": [
       "<div>\n",
       "<style scoped>\n",
       "    .dataframe tbody tr th:only-of-type {\n",
       "        vertical-align: middle;\n",
       "    }\n",
       "\n",
       "    .dataframe tbody tr th {\n",
       "        vertical-align: top;\n",
       "    }\n",
       "\n",
       "    .dataframe thead th {\n",
       "        text-align: right;\n",
       "    }\n",
       "</style>\n",
       "<table border=\"1\" class=\"dataframe\">\n",
       "  <thead>\n",
       "    <tr style=\"text-align: right;\">\n",
       "      <th></th>\n",
       "      <th>farm_name</th>\n",
       "      <th>farm_lon</th>\n",
       "      <th>farm_lat</th>\n",
       "      <th>temperature</th>\n",
       "      <th>precipitation</th>\n",
       "      <th>soil_type</th>\n",
       "      <th>percentage_tot_prec</th>\n",
       "    </tr>\n",
       "  </thead>\n",
       "  <tbody>\n",
       "    <tr>\n",
       "      <th>905</th>\n",
       "      <td>Farm 906</td>\n",
       "      <td>-102.12</td>\n",
       "      <td>50.08</td>\n",
       "      <td>33.0</td>\n",
       "      <td>50.2</td>\n",
       "      <td>brown</td>\n",
       "      <td>0.090015</td>\n",
       "    </tr>\n",
       "    <tr>\n",
       "      <th>819</th>\n",
       "      <td>Farm 820</td>\n",
       "      <td>-101.11</td>\n",
       "      <td>50.91</td>\n",
       "      <td>33.0</td>\n",
       "      <td>26.6</td>\n",
       "      <td>None</td>\n",
       "      <td>0.047697</td>\n",
       "    </tr>\n",
       "    <tr>\n",
       "      <th>613</th>\n",
       "      <td>Farm 614</td>\n",
       "      <td>-103.28</td>\n",
       "      <td>50.93</td>\n",
       "      <td>33.0</td>\n",
       "      <td>74.6</td>\n",
       "      <td>black</td>\n",
       "      <td>0.133767</td>\n",
       "    </tr>\n",
       "    <tr>\n",
       "      <th>634</th>\n",
       "      <td>Farm 635</td>\n",
       "      <td>-100.81</td>\n",
       "      <td>51.89</td>\n",
       "      <td>33.0</td>\n",
       "      <td>88.9</td>\n",
       "      <td>None</td>\n",
       "      <td>0.159409</td>\n",
       "    </tr>\n",
       "    <tr>\n",
       "      <th>491</th>\n",
       "      <td>Farm 492</td>\n",
       "      <td>-104.69</td>\n",
       "      <td>50.11</td>\n",
       "      <td>32.9</td>\n",
       "      <td>67.8</td>\n",
       "      <td>brown</td>\n",
       "      <td>0.121574</td>\n",
       "    </tr>\n",
       "  </tbody>\n",
       "</table>\n",
       "</div>"
      ],
      "text/plain": [
       "    farm_name  farm_lon  farm_lat  temperature  precipitation soil_type  \\\n",
       "905  Farm 906   -102.12     50.08         33.0           50.2     brown   \n",
       "819  Farm 820   -101.11     50.91         33.0           26.6      None   \n",
       "613  Farm 614   -103.28     50.93         33.0           74.6     black   \n",
       "634  Farm 635   -100.81     51.89         33.0           88.9      None   \n",
       "491  Farm 492   -104.69     50.11         32.9           67.8     brown   \n",
       "\n",
       "     percentage_tot_prec  \n",
       "905             0.090015  \n",
       "819             0.047697  \n",
       "613             0.133767  \n",
       "634             0.159409  \n",
       "491             0.121574  "
      ]
     },
     "execution_count": 282,
     "metadata": {},
     "output_type": "execute_result"
    }
   ],
   "source": [
    "## Your code here down\n",
    "df['percentage_tot_prec'] = (df['precipitation'] / df['precipitation'].sum()) * 100\n",
    "df.head()\n",
    "## Your code here up"
   ]
  },
  {
   "attachments": {},
   "cell_type": "markdown",
   "metadata": {},
   "source": [
    "9. Create a new column called \"precipitation_rank\" that ranks the farms based on their precipitation in ascending order, with ties being assigned the same rank."
   ]
  },
  {
   "cell_type": "code",
   "execution_count": 283,
   "metadata": {},
   "outputs": [
    {
     "data": {
      "text/html": [
       "<div>\n",
       "<style scoped>\n",
       "    .dataframe tbody tr th:only-of-type {\n",
       "        vertical-align: middle;\n",
       "    }\n",
       "\n",
       "    .dataframe tbody tr th {\n",
       "        vertical-align: top;\n",
       "    }\n",
       "\n",
       "    .dataframe thead th {\n",
       "        text-align: right;\n",
       "    }\n",
       "</style>\n",
       "<table border=\"1\" class=\"dataframe\">\n",
       "  <thead>\n",
       "    <tr style=\"text-align: right;\">\n",
       "      <th></th>\n",
       "      <th>farm_name</th>\n",
       "      <th>farm_lon</th>\n",
       "      <th>farm_lat</th>\n",
       "      <th>temperature</th>\n",
       "      <th>precipitation</th>\n",
       "      <th>soil_type</th>\n",
       "      <th>percentage_tot_prec</th>\n",
       "      <th>precipitation_rank</th>\n",
       "    </tr>\n",
       "  </thead>\n",
       "  <tbody>\n",
       "    <tr>\n",
       "      <th>905</th>\n",
       "      <td>Farm 906</td>\n",
       "      <td>-102.12</td>\n",
       "      <td>50.08</td>\n",
       "      <td>33.0</td>\n",
       "      <td>50.2</td>\n",
       "      <td>brown</td>\n",
       "      <td>0.090015</td>\n",
       "      <td>406.0</td>\n",
       "    </tr>\n",
       "    <tr>\n",
       "      <th>819</th>\n",
       "      <td>Farm 820</td>\n",
       "      <td>-101.11</td>\n",
       "      <td>50.91</td>\n",
       "      <td>33.0</td>\n",
       "      <td>26.6</td>\n",
       "      <td>None</td>\n",
       "      <td>0.047697</td>\n",
       "      <td>91.0</td>\n",
       "    </tr>\n",
       "    <tr>\n",
       "      <th>613</th>\n",
       "      <td>Farm 614</td>\n",
       "      <td>-103.28</td>\n",
       "      <td>50.93</td>\n",
       "      <td>33.0</td>\n",
       "      <td>74.6</td>\n",
       "      <td>black</td>\n",
       "      <td>0.133767</td>\n",
       "      <td>771.0</td>\n",
       "    </tr>\n",
       "    <tr>\n",
       "      <th>634</th>\n",
       "      <td>Farm 635</td>\n",
       "      <td>-100.81</td>\n",
       "      <td>51.89</td>\n",
       "      <td>33.0</td>\n",
       "      <td>88.9</td>\n",
       "      <td>None</td>\n",
       "      <td>0.159409</td>\n",
       "      <td>990.0</td>\n",
       "    </tr>\n",
       "    <tr>\n",
       "      <th>491</th>\n",
       "      <td>Farm 492</td>\n",
       "      <td>-104.69</td>\n",
       "      <td>50.11</td>\n",
       "      <td>32.9</td>\n",
       "      <td>67.8</td>\n",
       "      <td>brown</td>\n",
       "      <td>0.121574</td>\n",
       "      <td>677.0</td>\n",
       "    </tr>\n",
       "  </tbody>\n",
       "</table>\n",
       "</div>"
      ],
      "text/plain": [
       "    farm_name  farm_lon  farm_lat  temperature  precipitation soil_type  \\\n",
       "905  Farm 906   -102.12     50.08         33.0           50.2     brown   \n",
       "819  Farm 820   -101.11     50.91         33.0           26.6      None   \n",
       "613  Farm 614   -103.28     50.93         33.0           74.6     black   \n",
       "634  Farm 635   -100.81     51.89         33.0           88.9      None   \n",
       "491  Farm 492   -104.69     50.11         32.9           67.8     brown   \n",
       "\n",
       "     percentage_tot_prec  precipitation_rank  \n",
       "905             0.090015               406.0  \n",
       "819             0.047697                91.0  \n",
       "613             0.133767               771.0  \n",
       "634             0.159409               990.0  \n",
       "491             0.121574               677.0  "
      ]
     },
     "execution_count": 283,
     "metadata": {},
     "output_type": "execute_result"
    }
   ],
   "source": [
    "## Your code here down\n",
    "df['precipitation_rank'] = df['precipitation'].rank(method='min', ascending=True)\n",
    "df.head()\n",
    "## Your code here up"
   ]
  },
  {
   "attachments": {},
   "cell_type": "markdown",
   "metadata": {},
   "source": [
    "10. Normalize the temperature column to a range between 0 and 1 for each farm."
   ]
  },
  {
   "cell_type": "code",
   "execution_count": 284,
   "metadata": {},
   "outputs": [
    {
     "data": {
      "text/html": [
       "<div>\n",
       "<style scoped>\n",
       "    .dataframe tbody tr th:only-of-type {\n",
       "        vertical-align: middle;\n",
       "    }\n",
       "\n",
       "    .dataframe tbody tr th {\n",
       "        vertical-align: top;\n",
       "    }\n",
       "\n",
       "    .dataframe thead th {\n",
       "        text-align: right;\n",
       "    }\n",
       "</style>\n",
       "<table border=\"1\" class=\"dataframe\">\n",
       "  <thead>\n",
       "    <tr style=\"text-align: right;\">\n",
       "      <th></th>\n",
       "      <th>farm_name</th>\n",
       "      <th>farm_lon</th>\n",
       "      <th>farm_lat</th>\n",
       "      <th>temperature</th>\n",
       "      <th>precipitation</th>\n",
       "      <th>soil_type</th>\n",
       "      <th>percentage_tot_prec</th>\n",
       "      <th>precipitation_rank</th>\n",
       "      <th>temperature_norm</th>\n",
       "    </tr>\n",
       "  </thead>\n",
       "  <tbody>\n",
       "    <tr>\n",
       "      <th>905</th>\n",
       "      <td>Farm 906</td>\n",
       "      <td>-102.12</td>\n",
       "      <td>50.08</td>\n",
       "      <td>33.0</td>\n",
       "      <td>50.2</td>\n",
       "      <td>brown</td>\n",
       "      <td>0.090015</td>\n",
       "      <td>406.0</td>\n",
       "      <td>1.000000</td>\n",
       "    </tr>\n",
       "    <tr>\n",
       "      <th>819</th>\n",
       "      <td>Farm 820</td>\n",
       "      <td>-101.11</td>\n",
       "      <td>50.91</td>\n",
       "      <td>33.0</td>\n",
       "      <td>26.6</td>\n",
       "      <td>None</td>\n",
       "      <td>0.047697</td>\n",
       "      <td>91.0</td>\n",
       "      <td>1.000000</td>\n",
       "    </tr>\n",
       "    <tr>\n",
       "      <th>613</th>\n",
       "      <td>Farm 614</td>\n",
       "      <td>-103.28</td>\n",
       "      <td>50.93</td>\n",
       "      <td>33.0</td>\n",
       "      <td>74.6</td>\n",
       "      <td>black</td>\n",
       "      <td>0.133767</td>\n",
       "      <td>771.0</td>\n",
       "      <td>1.000000</td>\n",
       "    </tr>\n",
       "    <tr>\n",
       "      <th>634</th>\n",
       "      <td>Farm 635</td>\n",
       "      <td>-100.81</td>\n",
       "      <td>51.89</td>\n",
       "      <td>33.0</td>\n",
       "      <td>88.9</td>\n",
       "      <td>None</td>\n",
       "      <td>0.159409</td>\n",
       "      <td>990.0</td>\n",
       "      <td>1.000000</td>\n",
       "    </tr>\n",
       "    <tr>\n",
       "      <th>491</th>\n",
       "      <td>Farm 492</td>\n",
       "      <td>-104.69</td>\n",
       "      <td>50.11</td>\n",
       "      <td>32.9</td>\n",
       "      <td>67.8</td>\n",
       "      <td>brown</td>\n",
       "      <td>0.121574</td>\n",
       "      <td>677.0</td>\n",
       "      <td>0.993289</td>\n",
       "    </tr>\n",
       "  </tbody>\n",
       "</table>\n",
       "</div>"
      ],
      "text/plain": [
       "    farm_name  farm_lon  farm_lat  temperature  precipitation soil_type  \\\n",
       "905  Farm 906   -102.12     50.08         33.0           50.2     brown   \n",
       "819  Farm 820   -101.11     50.91         33.0           26.6      None   \n",
       "613  Farm 614   -103.28     50.93         33.0           74.6     black   \n",
       "634  Farm 635   -100.81     51.89         33.0           88.9      None   \n",
       "491  Farm 492   -104.69     50.11         32.9           67.8     brown   \n",
       "\n",
       "     percentage_tot_prec  precipitation_rank  temperature_norm  \n",
       "905             0.090015               406.0          1.000000  \n",
       "819             0.047697                91.0          1.000000  \n",
       "613             0.133767               771.0          1.000000  \n",
       "634             0.159409               990.0          1.000000  \n",
       "491             0.121574               677.0          0.993289  "
      ]
     },
     "execution_count": 284,
     "metadata": {},
     "output_type": "execute_result"
    }
   ],
   "source": [
    "## Your code here down\n",
    "df['temperature_norm'] = (df['temperature'] - df['temperature'].min()) / (df['temperature'].max() - df['temperature'].min())\n",
    "df.head()\n",
    "\n",
    "## Your code here up"
   ]
  },
  {
   "cell_type": "markdown",
   "metadata": {},
   "source": [
    "## ETL"
   ]
  },
  {
   "cell_type": "markdown",
   "metadata": {},
   "source": [
    "11. Change column types accordingly."
   ]
  },
  {
   "cell_type": "code",
   "execution_count": 285,
   "metadata": {},
   "outputs": [
    {
     "name": "stdout",
     "output_type": "stream",
     "text": [
      "<class 'pandas.core.frame.DataFrame'>\n",
      "Index: 1000 entries, 905 to 920\n",
      "Data columns (total 9 columns):\n",
      " #   Column               Non-Null Count  Dtype  \n",
      "---  ------               --------------  -----  \n",
      " 0   farm_name            1000 non-null   string \n",
      " 1   farm_lon             1000 non-null   float64\n",
      " 2   farm_lat             1000 non-null   float64\n",
      " 3   temperature          1000 non-null   float64\n",
      " 4   precipitation        1000 non-null   float64\n",
      " 5   soil_type            791 non-null    string \n",
      " 6   percentage_tot_prec  1000 non-null   float64\n",
      " 7   precipitation_rank   1000 non-null   float64\n",
      " 8   temperature_norm     1000 non-null   float64\n",
      "dtypes: float64(7), string(2)\n",
      "memory usage: 110.4 KB\n"
     ]
    }
   ],
   "source": [
    "## Your code here down\n",
    "df['farm_name'] = df['farm_name'].astype('string')\n",
    "df['soil_type'] = df['soil_type'].astype('string')\n",
    "df.info()\n",
    "## Your code here up"
   ]
  },
  {
   "cell_type": "markdown",
   "metadata": {},
   "source": [
    "## EDA"
   ]
  },
  {
   "cell_type": "markdown",
   "metadata": {},
   "source": [
    "12. Find missing values and give information how would you handle them"
   ]
  },
  {
   "cell_type": "code",
   "execution_count": 286,
   "metadata": {},
   "outputs": [
    {
     "data": {
      "text/plain": [
       "farm_name                0\n",
       "farm_lon                 0\n",
       "farm_lat                 0\n",
       "temperature              0\n",
       "precipitation            0\n",
       "soil_type              209\n",
       "percentage_tot_prec      0\n",
       "precipitation_rank       0\n",
       "temperature_norm         0\n",
       "dtype: int64"
      ]
     },
     "execution_count": 286,
     "metadata": {},
     "output_type": "execute_result"
    }
   ],
   "source": [
    "## Your code here down\n",
    "# missing values can be found using df.info() above, or...\n",
    "df.isna().sum()\n",
    "\n",
    "## Your code here up\n",
    "\n",
    "# Missing values can be handled by filling them with a specific value or identifier (e.g. user-defined, interpolated, etc.), or by dropping the rows with missing values. The 'None' soil-type values are not causing an issue at present, so I am keeping the entire dataset as-is. Also, some pandas functions can handle missing values without issue, such as the groupby function used above."
   ]
  },
  {
   "cell_type": "markdown",
   "metadata": {},
   "source": [
    "13. Find outliers if there is any how would you handle them"
   ]
  },
  {
   "cell_type": "code",
   "execution_count": 287,
   "metadata": {},
   "outputs": [
    {
     "data": {
      "image/png": "[encoded data removed]",
      "text/plain": [
       "<Figure size 640x480 with 1 Axes>"
      ]
     },
     "metadata": {},
     "output_type": "display_data"
    }
   ],
   "source": [
    "## Your code here down\n",
    "import matplotlib.pyplot as plt\n",
    "df.boxplot(column=['temperature', 'precipitation'])\n",
    "plt.show()\n",
    "\n",
    "## Your code here up\n",
    "\n",
    "## If there were outliers, they could be handled by removing, transforming, or capping them, etc. Also, ideally we can consult a subject matter expert to determine if outliers are valid or are of concern. In this case, there are no outliers, so no action is necessary. "
   ]
  },
  {
   "cell_type": "markdown",
   "metadata": {},
   "source": [
    "14. Find descriptive statistics for relavant columns and plot them by using bars."
   ]
  },
  {
   "cell_type": "code",
   "execution_count": 288,
   "metadata": {},
   "outputs": [
    {
     "data": {
      "text/html": [
       "<div>\n",
       "<style scoped>\n",
       "    .dataframe tbody tr th:only-of-type {\n",
       "        vertical-align: middle;\n",
       "    }\n",
       "\n",
       "    .dataframe tbody tr th {\n",
       "        vertical-align: top;\n",
       "    }\n",
       "\n",
       "    .dataframe thead th {\n",
       "        text-align: right;\n",
       "    }\n",
       "</style>\n",
       "<table border=\"1\" class=\"dataframe\">\n",
       "  <thead>\n",
       "    <tr style=\"text-align: right;\">\n",
       "      <th></th>\n",
       "      <th>count</th>\n",
       "      <th>mean</th>\n",
       "      <th>std</th>\n",
       "      <th>min</th>\n",
       "      <th>25%</th>\n",
       "      <th>50%</th>\n",
       "      <th>75%</th>\n",
       "      <th>max</th>\n",
       "    </tr>\n",
       "  </thead>\n",
       "  <tbody>\n",
       "    <tr>\n",
       "      <th>temperature</th>\n",
       "      <td>1000.0</td>\n",
       "      <td>25.5774</td>\n",
       "      <td>4.390064</td>\n",
       "      <td>18.1</td>\n",
       "      <td>21.700</td>\n",
       "      <td>25.50</td>\n",
       "      <td>29.500</td>\n",
       "      <td>33.0</td>\n",
       "    </tr>\n",
       "    <tr>\n",
       "      <th>precipitation</th>\n",
       "      <td>1000.0</td>\n",
       "      <td>55.7685</td>\n",
       "      <td>20.008871</td>\n",
       "      <td>20.2</td>\n",
       "      <td>38.775</td>\n",
       "      <td>56.65</td>\n",
       "      <td>72.625</td>\n",
       "      <td>89.7</td>\n",
       "    </tr>\n",
       "  </tbody>\n",
       "</table>\n",
       "</div>"
      ],
      "text/plain": [
       "                count     mean        std   min     25%    50%     75%   max\n",
       "temperature    1000.0  25.5774   4.390064  18.1  21.700  25.50  29.500  33.0\n",
       "precipitation  1000.0  55.7685  20.008871  20.2  38.775  56.65  72.625  89.7"
      ]
     },
     "execution_count": 288,
     "metadata": {},
     "output_type": "execute_result"
    }
   ],
   "source": [
    "## Your code here down\n",
    "df[['temperature', 'precipitation']].describe().T\n",
    "\n",
    "## Your code here up"
   ]
  },
  {
   "cell_type": "markdown",
   "metadata": {},
   "source": [
    "15. Plot the distribution of relevant columns."
   ]
  },
  {
   "cell_type": "code",
   "execution_count": 289,
   "metadata": {},
   "outputs": [
    {
     "data": {
      "image/png": "[encoded data removed]",
      "text/plain": [
       "<Figure size 640x480 with 1 Axes>"
      ]
     },
     "metadata": {},
     "output_type": "display_data"
    },
    {
     "data": {
      "image/png": "[encoded data removed]",
      "text/plain": [
       "<Figure size 640x480 with 1 Axes>"
      ]
     },
     "metadata": {},
     "output_type": "display_data"
    }
   ],
   "source": [
    "## Your code here down\n",
    "df['temperature'].hist(bins=20)\n",
    "plt.show()\n",
    "\n",
    "df['precipitation'].hist(bins=20, color='orange')\n",
    "plt.show()\n",
    "\n",
    "## Your code here up"
   ]
  }
 ],
 "metadata": {
  "kernelspec": {
   "display_name": "Python 3",
   "language": "python",
   "name": "python3"
  },
  "language_info": {
   "codemirror_mode": {
    "name": "ipython",
    "version": 3
   },
   "file_extension": ".py",
   "mimetype": "text/x-python",
   "name": "python",
   "nbconvert_exporter": "python",
   "pygments_lexer": "ipython3",
   "version": "3.10.13"
  },
  "orig_nbformat": 4
 },
 "nbformat": 4,
 "nbformat_minor": 2
}
